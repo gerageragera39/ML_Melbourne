{
 "cells": [
  {
   "metadata": {
    "ExecuteTime": {
     "end_time": "2025-05-07T11:44:16.678001Z",
     "start_time": "2025-05-07T11:44:16.674498Z"
    }
   },
   "cell_type": "code",
   "source": [
    "import pandas as pd\n",
    "from IPython.display import display\n",
    "from sklearn.model_selection import train_test_split\n",
    "from sklearn.preprocessing import StandardScaler\n",
    "from sklearn.impute import SimpleImputer\n",
    "from sklearn.compose import ColumnTransformer\n",
    "from sklearn.pipeline import Pipeline\n",
    "import seaborn as sns\n",
    "import matplotlib.pyplot as plt\n",
    "from sklearn.preprocessing import OneHotEncoder\n",
    "from sklearn.metrics import mean_absolute_error, mean_squared_error, r2_score, make_scorer\n",
    "from sklearn.model_selection import KFold, cross_val_score\n",
    "import numpy as np\n",
    "from sklearn.model_selection import RandomizedSearchCV\n",
    "from sklearn.model_selection import GridSearchCV"
   ],
   "id": "cef0c236f0612928",
   "outputs": [],
   "execution_count": 574
  },
  {
   "metadata": {
    "ExecuteTime": {
     "end_time": "2025-05-07T11:44:16.772267Z",
     "start_time": "2025-05-07T11:44:16.769466Z"
    }
   },
   "cell_type": "code",
   "source": [
    "HOUSING_PATH_FULL='C:/Users/samys/PycharmProjects/HousingPrices/data/Melbourne_housing_FULL.csv'\n",
    "\n",
    "def load_housing_data(housing_path=HOUSING_PATH_FULL):\n",
    "    return pd.read_csv(housing_path)"
   ],
   "id": "d04e11585bafd83f",
   "outputs": [],
   "execution_count": 575
  },
  {
   "metadata": {
    "ExecuteTime": {
     "end_time": "2025-05-07T11:44:16.979111Z",
     "start_time": "2025-05-07T11:44:16.847396Z"
    }
   },
   "cell_type": "code",
   "source": [
    "loaded_data = load_housing_data()\n",
    "loaded_data.info()"
   ],
   "id": "4b8c3613abb0a12e",
   "outputs": [
    {
     "name": "stdout",
     "output_type": "stream",
     "text": [
      "<class 'pandas.core.frame.DataFrame'>\n",
      "RangeIndex: 34857 entries, 0 to 34856\n",
      "Data columns (total 21 columns):\n",
      " #   Column         Non-Null Count  Dtype  \n",
      "---  ------         --------------  -----  \n",
      " 0   Suburb         34857 non-null  object \n",
      " 1   Address        34857 non-null  object \n",
      " 2   Rooms          34857 non-null  int64  \n",
      " 3   Type           34857 non-null  object \n",
      " 4   Price          27247 non-null  float64\n",
      " 5   Method         34857 non-null  object \n",
      " 6   SellerG        34857 non-null  object \n",
      " 7   Date           34857 non-null  object \n",
      " 8   Distance       34856 non-null  float64\n",
      " 9   Postcode       34856 non-null  float64\n",
      " 10  Bedroom2       26640 non-null  float64\n",
      " 11  Bathroom       26631 non-null  float64\n",
      " 12  Car            26129 non-null  float64\n",
      " 13  Landsize       23047 non-null  float64\n",
      " 14  BuildingArea   13742 non-null  float64\n",
      " 15  YearBuilt      15551 non-null  float64\n",
      " 16  CouncilArea    34854 non-null  object \n",
      " 17  Lattitude      26881 non-null  float64\n",
      " 18  Longtitude     26881 non-null  float64\n",
      " 19  Regionname     34854 non-null  object \n",
      " 20  Propertycount  34854 non-null  float64\n",
      "dtypes: float64(12), int64(1), object(8)\n",
      "memory usage: 5.6+ MB\n"
     ]
    }
   ],
   "execution_count": 576
  },
  {
   "metadata": {
    "ExecuteTime": {
     "end_time": "2025-05-07T11:44:17.080320Z",
     "start_time": "2025-05-07T11:44:17.068819Z"
    }
   },
   "cell_type": "code",
   "source": [
    "train_val_set = loaded_data.dropna(subset=['Price'])\n",
    "final_test = loaded_data[loaded_data['Price'].isna()]\n",
    "print(f\"Number of rows in train_val_set: {len(train_val_set)}\")\n",
    "print(f\"Number of rows in final_test: {len(final_test)}\")\n",
    "\n",
    "new_column_names = {'Lattitude': 'Latitude', 'Longtitude': 'Longitude'}\n",
    "melb_data = train_val_set.rename(columns=new_column_names)\n",
    "\n",
    "PRICE_MEAN = melb_data['Price'].mean()\n",
    "print(f'PRICE_MEAN = {PRICE_MEAN}'  )\n",
    "PRICE_MEDIAN = melb_data['Price'].median()\n",
    "print(f'PRICE_MEDIAN = {PRICE_MEDIAN}')"
   ],
   "id": "5d67b3b760d2f193",
   "outputs": [
    {
     "name": "stdout",
     "output_type": "stream",
     "text": [
      "Number of rows in train_val_set: 27247\n",
      "Number of rows in final_test: 7610\n",
      "PRICE_MEAN = 1050173.344955408\n",
      "PRICE_MEDIAN = 870000.0\n"
     ]
    }
   ],
   "execution_count": 577
  },
  {
   "metadata": {
    "ExecuteTime": {
     "end_time": "2025-05-07T11:44:17.167529Z",
     "start_time": "2025-05-07T11:44:17.164008Z"
    }
   },
   "cell_type": "code",
   "source": [
    "TRAINING_L_U = []\n",
    "def remove_outliers_iqr_all(df, columns, factor=1.5, IS_TRAIN=False):\n",
    "    df_clean = df.copy()\n",
    "    outlier_mask = pd.Series(False, index=df_clean.index)\n",
    "\n",
    "    for col in columns:\n",
    "        Q1 = df_clean[col].quantile(0.25)\n",
    "        Q3 = df_clean[col].quantile(0.75)\n",
    "        IQR = Q3 - Q1\n",
    "        lower = Q1 - factor * IQR\n",
    "        upper = Q3 + factor * IQR\n",
    "        if IS_TRAIN:\n",
    "            TRAINING_L_U.append([col, lower, upper])\n",
    "        outlier_mask |= (df_clean[col] < lower) | (df_clean[col] > upper)\n",
    "\n",
    "    num_outliers = outlier_mask.sum()\n",
    "    df_clean = df_clean[~outlier_mask]\n",
    "\n",
    "    print(f\"Total number of outliers: {num_outliers}\")\n",
    "    print(f\"Number of rows after removal: {len(df_clean)}\")\n",
    "    return df_clean\n"
   ],
   "id": "72b26031a955477c",
   "outputs": [],
   "execution_count": 578
  },
  {
   "metadata": {
    "ExecuteTime": {
     "end_time": "2025-05-07T11:44:17.246140Z",
     "start_time": "2025-05-07T11:44:17.243154Z"
    }
   },
   "cell_type": "code",
   "source": [
    "# EXTRA\n",
    "# for name, pred in preds.items():"
   ],
   "id": "c0ee90576ed0e5a5",
   "outputs": [],
   "execution_count": 579
  },
  {
   "metadata": {
    "ExecuteTime": {
     "end_time": "2025-05-07T11:44:17.343621Z",
     "start_time": "2025-05-07T11:44:17.324030Z"
    }
   },
   "cell_type": "code",
   "source": [
    "# cols = [\"Distance\", \"Bedroom2\", \"Bathroom\", \"Car\"]\n",
    "cols = [\"Distance\", \"Bedroom2\", \"Bathroom\", \"Car\"]\n",
    "melb_data = remove_outliers_iqr_all(melb_data, cols, IS_TRAIN=True)\n",
    "melb_data = remove_outliers_iqr_all(melb_data, ['Price'], factor=1.5)"
   ],
   "id": "b6021bbf0ccffb59",
   "outputs": [
    {
     "name": "stdout",
     "output_type": "stream",
     "text": [
      "Total number of outliers: 2450\n",
      "Number of rows after removal: 24797\n",
      "Total number of outliers: 1040\n",
      "Number of rows after removal: 23757\n"
     ]
    }
   ],
   "execution_count": 580
  },
  {
   "metadata": {
    "ExecuteTime": {
     "end_time": "2025-05-07T11:44:17.444776Z",
     "start_time": "2025-05-07T11:44:17.429551Z"
    }
   },
   "cell_type": "code",
   "source": [
    "train_set, test_set = train_test_split(melb_data, test_size=0.2, random_state=42)\n",
    "train_set.info()"
   ],
   "id": "da9f267dfceddd51",
   "outputs": [
    {
     "name": "stdout",
     "output_type": "stream",
     "text": [
      "<class 'pandas.core.frame.DataFrame'>\n",
      "Index: 19005 entries, 18914 to 34692\n",
      "Data columns (total 21 columns):\n",
      " #   Column         Non-Null Count  Dtype  \n",
      "---  ------         --------------  -----  \n",
      " 0   Suburb         19005 non-null  object \n",
      " 1   Address        19005 non-null  object \n",
      " 2   Rooms          19005 non-null  int64  \n",
      " 3   Type           19005 non-null  object \n",
      " 4   Price          19005 non-null  float64\n",
      " 5   Method         19005 non-null  object \n",
      " 6   SellerG        19005 non-null  object \n",
      " 7   Date           19005 non-null  object \n",
      " 8   Distance       19004 non-null  float64\n",
      " 9   Postcode       19004 non-null  float64\n",
      " 10  Bedroom2       14167 non-null  float64\n",
      " 11  Bathroom       14166 non-null  float64\n",
      " 12  Car            13891 non-null  float64\n",
      " 13  Landsize       12320 non-null  float64\n",
      " 14  BuildingArea   7200 non-null   float64\n",
      " 15  YearBuilt      8231 non-null   float64\n",
      " 16  CouncilArea    19002 non-null  object \n",
      " 17  Latitude       14309 non-null  float64\n",
      " 18  Longitude      14309 non-null  float64\n",
      " 19  Regionname     19002 non-null  object \n",
      " 20  Propertycount  19002 non-null  float64\n",
      "dtypes: float64(12), int64(1), object(8)\n",
      "memory usage: 3.2+ MB\n"
     ]
    }
   ],
   "execution_count": 581
  },
  {
   "metadata": {
    "ExecuteTime": {
     "end_time": "2025-05-07T11:44:17.541813Z",
     "start_time": "2025-05-07T11:44:17.537540Z"
    }
   },
   "cell_type": "code",
   "source": [
    "# train_set = remove_outliers_iqr_all(train_set, cols)\n",
    "\n",
    "\n",
    "train_set['Price'] = np.log1p(train_set['Price'])\n",
    "test_set['Price'] = np.log1p(test_set['Price'])"
   ],
   "id": "f7620264440900be",
   "outputs": [],
   "execution_count": 582
  },
  {
   "metadata": {
    "ExecuteTime": {
     "end_time": "2025-05-07T11:44:17.637105Z",
     "start_time": "2025-05-07T11:44:17.627387Z"
    }
   },
   "cell_type": "code",
   "source": [
    "housing = train_set.copy()\n",
    "numerical_features = train_set.select_dtypes(include=['int64', 'float64']).columns.tolist()\n",
    "categorical_features = train_set.select_dtypes(include=['object']).columns.tolist()\n",
    "\n",
    "print(\"Numerical features:\", numerical_features)\n",
    "print(\"Categorical features:\", categorical_features)"
   ],
   "id": "e644b1100754dce5",
   "outputs": [
    {
     "name": "stdout",
     "output_type": "stream",
     "text": [
      "Numerical features: ['Rooms', 'Price', 'Distance', 'Postcode', 'Bedroom2', 'Bathroom', 'Car', 'Landsize', 'BuildingArea', 'YearBuilt', 'Latitude', 'Longitude', 'Propertycount']\n",
      "Categorical features: ['Suburb', 'Address', 'Type', 'Method', 'SellerG', 'Date', 'CouncilArea', 'Regionname']\n"
     ]
    }
   ],
   "execution_count": 583
  },
  {
   "metadata": {
    "ExecuteTime": {
     "end_time": "2025-05-07T11:44:18.828082Z",
     "start_time": "2025-05-07T11:44:17.721410Z"
    }
   },
   "cell_type": "code",
   "source": [
    "housing_num = housing[numerical_features]\n",
    "housing.hist(bins=50, figsize=(20, 15))"
   ],
   "id": "8f80815d6873a0e7",
   "outputs": [
    {
     "data": {
      "text/plain": [
       "array([[<Axes: title={'center': 'Rooms'}>,\n",
       "        <Axes: title={'center': 'Price'}>,\n",
       "        <Axes: title={'center': 'Distance'}>,\n",
       "        <Axes: title={'center': 'Postcode'}>],\n",
       "       [<Axes: title={'center': 'Bedroom2'}>,\n",
       "        <Axes: title={'center': 'Bathroom'}>,\n",
       "        <Axes: title={'center': 'Car'}>,\n",
       "        <Axes: title={'center': 'Landsize'}>],\n",
       "       [<Axes: title={'center': 'BuildingArea'}>,\n",
       "        <Axes: title={'center': 'YearBuilt'}>,\n",
       "        <Axes: title={'center': 'Latitude'}>,\n",
       "        <Axes: title={'center': 'Longitude'}>],\n",
       "       [<Axes: title={'center': 'Propertycount'}>, <Axes: >, <Axes: >,\n",
       "        <Axes: >]], dtype=object)"
      ]
     },
     "execution_count": 584,
     "metadata": {},
     "output_type": "execute_result"
    },
    {
     "data": {
      "text/plain": [
       "<Figure size 2000x1500 with 16 Axes>"
      ],
      "image/png": "[encoded data removed]"
     },
     "metadata": {},
     "output_type": "display_data"
    }
   ],
   "execution_count": 584
  },
  {
   "metadata": {
    "ExecuteTime": {
     "end_time": "2025-05-07T11:44:18.942737Z",
     "start_time": "2025-05-07T11:44:18.930541Z"
    }
   },
   "cell_type": "code",
   "source": [
    "corr_matrix = housing_num.corr()\n",
    "corr_matrix[\"Price\"].sort_values(ascending=False)"
   ],
   "id": "645b36959e40149b",
   "outputs": [
    {
     "data": {
      "text/plain": [
       "Price            1.000000\n",
       "Rooms            0.526407\n",
       "Bedroom2         0.479045\n",
       "Bathroom         0.345700\n",
       "Longitude        0.267527\n",
       "BuildingArea     0.260362\n",
       "Car              0.230191\n",
       "Postcode         0.195620\n",
       "Landsize         0.051498\n",
       "Distance        -0.099173\n",
       "Propertycount   -0.102495\n",
       "Latitude        -0.261767\n",
       "YearBuilt       -0.372922\n",
       "Name: Price, dtype: float64"
      ]
     },
     "execution_count": 585,
     "metadata": {},
     "output_type": "execute_result"
    }
   ],
   "execution_count": 585
  },
  {
   "metadata": {
    "ExecuteTime": {
     "end_time": "2025-05-07T11:44:19.397693Z",
     "start_time": "2025-05-07T11:44:19.050621Z"
    }
   },
   "cell_type": "code",
   "source": [
    "fig, axes = plt.subplots(1, 3, figsize=(15, 5))\n",
    "\n",
    "# Price vs Rooms\n",
    "sns.boxplot(data=housing, x='Rooms', y='Price', ax=axes[0])\n",
    "axes[0].set_title('Price Distribution by Rooms')\n",
    "axes[0].tick_params(axis='x', rotation=45)\n",
    "\n",
    "# Price vs Bedrooms\n",
    "sns.boxplot(data=housing, x='Bedroom2', y='Price', ax=axes[1])\n",
    "axes[1].set_title('Price Distribution by Bedrooms')\n",
    "axes[1].tick_params(axis='x', rotation=45)\n",
    "\n",
    "# Price vs Bathrooms\n",
    "sns.boxplot(data=housing, x='Bathroom', y='Price', ax=axes[2])\n",
    "axes[2].set_title('Price Distribution by Bathrooms')\n",
    "axes[2].tick_params(axis='x', rotation=45)\n",
    "\n",
    "plt.tight_layout()"
   ],
   "id": "f322490ac16b7b4e",
   "outputs": [
    {
     "data": {
      "text/plain": [
       "<Figure size 1500x500 with 3 Axes>"
      ],
      "image/png": "[encoded data removed]"
     },
     "metadata": {},
     "output_type": "display_data"
    }
   ],
   "execution_count": 586
  },
  {
   "metadata": {
    "ExecuteTime": {
     "end_time": "2025-05-07T11:44:19.512380Z",
     "start_time": "2025-05-07T11:44:19.502878Z"
    }
   },
   "cell_type": "code",
   "source": "housing.info()\n",
   "id": "3a90c38f1a0bec0a",
   "outputs": [
    {
     "name": "stdout",
     "output_type": "stream",
     "text": [
      "<class 'pandas.core.frame.DataFrame'>\n",
      "Index: 19005 entries, 18914 to 34692\n",
      "Data columns (total 21 columns):\n",
      " #   Column         Non-Null Count  Dtype  \n",
      "---  ------         --------------  -----  \n",
      " 0   Suburb         19005 non-null  object \n",
      " 1   Address        19005 non-null  object \n",
      " 2   Rooms          19005 non-null  int64  \n",
      " 3   Type           19005 non-null  object \n",
      " 4   Price          19005 non-null  float64\n",
      " 5   Method         19005 non-null  object \n",
      " 6   SellerG        19005 non-null  object \n",
      " 7   Date           19005 non-null  object \n",
      " 8   Distance       19004 non-null  float64\n",
      " 9   Postcode       19004 non-null  float64\n",
      " 10  Bedroom2       14167 non-null  float64\n",
      " 11  Bathroom       14166 non-null  float64\n",
      " 12  Car            13891 non-null  float64\n",
      " 13  Landsize       12320 non-null  float64\n",
      " 14  BuildingArea   7200 non-null   float64\n",
      " 15  YearBuilt      8231 non-null   float64\n",
      " 16  CouncilArea    19002 non-null  object \n",
      " 17  Latitude       14309 non-null  float64\n",
      " 18  Longitude      14309 non-null  float64\n",
      " 19  Regionname     19002 non-null  object \n",
      " 20  Propertycount  19002 non-null  float64\n",
      "dtypes: float64(12), int64(1), object(8)\n",
      "memory usage: 3.2+ MB\n"
     ]
    }
   ],
   "execution_count": 587
  },
  {
   "metadata": {
    "ExecuteTime": {
     "end_time": "2025-05-07T11:44:19.667517Z",
     "start_time": "2025-05-07T11:44:19.659180Z"
    }
   },
   "cell_type": "code",
   "source": [
    "\n",
    "drop_cols = [\"BuildingArea\", \"YearBuilt\", \"Postcode\", \"Latitude\", \"Longitude\", \"Address\"]\n",
    "housing_clean = housing.drop(columns=drop_cols)\n",
    "\n",
    "important_dropna_cols = [\"Distance\", \"CouncilArea\", \"Regionname\",\"Bedroom2\", \"Bathroom\", \"Car\", \"Landsize\", \"Propertycount\"]\n",
    "housing_clean = housing_clean.dropna(subset=important_dropna_cols)\n",
    "\n",
    "# median_impute_cols = [\"Landsize\"]\n",
    "# mean_impute_cols = [\"Propertycount\"]"
   ],
   "id": "b622ab8a1e2a5d2a",
   "outputs": [],
   "execution_count": 588
  },
  {
   "metadata": {
    "ExecuteTime": {
     "end_time": "2025-05-07T11:44:19.794904Z",
     "start_time": "2025-05-07T11:44:19.745252Z"
    }
   },
   "cell_type": "code",
   "source": [
    "\n",
    "sns.boxplot(data=housing_clean, y='Price')\n",
    "plt.show()"
   ],
   "id": "ad377337c56d7572",
   "outputs": [
    {
     "data": {
      "text/plain": [
       "<Figure size 640x480 with 1 Axes>"
      ],
      "image/png": "[encoded data removed]"
     },
     "metadata": {},
     "output_type": "display_data"
    }
   ],
   "execution_count": 589
  },
  {
   "metadata": {
    "ExecuteTime": {
     "end_time": "2025-05-07T11:44:19.877021Z",
     "start_time": "2025-05-07T11:44:19.870741Z"
    }
   },
   "cell_type": "code",
   "source": [
    "\n",
    "median_imputer = SimpleImputer(strategy=\"median\")\n",
    "mean_imputer = SimpleImputer(strategy=\"mean\")\n",
    "\n",
    "imputer_transform = ColumnTransformer(transformers=[\n",
    "    (\"median_imputer\", median_imputer, median_impute_cols),\n",
    "    (\"mean_imputer\", mean_imputer, mean_impute_cols)\n",
    "],\n",
    "    remainder=\"passthrough\",\n",
    "    verbose_feature_names_out=False)\n",
    "\n",
    "numerical_cols = housing_clean.select_dtypes(include=['int64', 'float64']).columns.drop('Price').tolist()\n",
    "categorical_cols = housing_clean.drop(columns=numerical_cols + ['Price']).columns.tolist()\n",
    "\n",
    "print(\"Numerical columns:\", numerical_cols)\n",
    "print(\"Categorical columns:\", categorical_cols)\n",
    "\n",
    "numeric_transformer = Pipeline(steps=[\n",
    "    ('imputer_transform', imputer_transform),\n",
    "    ('scaler', StandardScaler())\n",
    "])\n",
    "\n",
    "categorical_transformer = Pipeline(steps=[\n",
    "    ('encoder', OneHotEncoder(handle_unknown='ignore'))\n",
    "])\n",
    "\n",
    "preprocessor = ColumnTransformer(\n",
    "    transformers=[\n",
    "        ('num', numeric_transformer, numerical_cols),\n",
    "        ('cat', categorical_transformer, categorical_cols)\n",
    "    ]\n",
    ")\n",
    "\n",
    "pipeline = Pipeline(steps=[\n",
    "    ('preprocessor', preprocessor),\n",
    "])\n"
   ],
   "id": "10769a12711be343",
   "outputs": [
    {
     "name": "stdout",
     "output_type": "stream",
     "text": [
      "Numerical columns: ['Rooms', 'Distance', 'Bedroom2', 'Bathroom', 'Car', 'Landsize', 'Propertycount']\n",
      "Categorical columns: ['Suburb', 'Type', 'Method', 'SellerG', 'Date', 'CouncilArea', 'Regionname']\n"
     ]
    }
   ],
   "execution_count": 590
  },
  {
   "metadata": {
    "ExecuteTime": {
     "end_time": "2025-05-07T11:44:19.979867Z",
     "start_time": "2025-05-07T11:44:19.952846Z"
    }
   },
   "cell_type": "code",
   "source": [
    "X_train = housing_clean.drop(columns=[\"Price\"])\n",
    "Y_train = housing_clean[\"Price\"]\n",
    "\n",
    "X_train_transformed = pipeline.fit_transform(X_train)\n"
   ],
   "id": "6e155f989abc206a",
   "outputs": [],
   "execution_count": 591
  },
  {
   "metadata": {
    "ExecuteTime": {
     "end_time": "2025-05-07T11:44:20.073572Z",
     "start_time": "2025-05-07T11:44:20.056991Z"
    }
   },
   "cell_type": "code",
   "source": [
    "\n",
    "test_set_clean = test_set.drop(columns=drop_cols)\n",
    "test_set_clean = test_set_clean.dropna(subset=important_dropna_cols)\n",
    "\n",
    "\n",
    "X_test = test_set_clean.drop(columns=[\"Price\"])\n",
    "Y_test = test_set_clean[\"Price\"]\n",
    "\n",
    "X_test_transformed = pipeline.transform(test_set_clean)\n"
   ],
   "id": "b8f1b7118b52a49e",
   "outputs": [],
   "execution_count": 592
  },
  {
   "metadata": {
    "ExecuteTime": {
     "end_time": "2025-05-07T11:44:20.151192Z",
     "start_time": "2025-05-07T11:44:20.148281Z"
    }
   },
   "cell_type": "code",
   "source": [
    "from sklearn.linear_model import LinearRegression, Ridge, Lasso\n",
    "from sklearn.ensemble import RandomForestRegressor, GradientBoostingRegressor\n",
    "from catboost import CatBoostRegressor\n",
    "from xgboost import XGBRegressor\n",
    "from lightgbm import LGBMRegressor\n",
    "\n"
   ],
   "id": "a7004bf944d0238e",
   "outputs": [],
   "execution_count": 593
  },
  {
   "metadata": {
    "ExecuteTime": {
     "end_time": "2025-05-07T11:44:20.233713Z",
     "start_time": "2025-05-07T11:44:20.230419Z"
    }
   },
   "cell_type": "code",
   "source": [
    "\n",
    "from sklearn.neural_network import MLPRegressor\n",
    "from sklearn.linear_model import HuberRegressor, RANSACRegressor\n",
    "\n",
    "models = {\n",
    "    'Linear': LinearRegression(),\n",
    "    'Ridge': Ridge(alpha=1.0),\n",
    "    'Lasso': Lasso(alpha=0.01),\n",
    "    'RandomForest': RandomForestRegressor(n_estimators=100, random_state=42),\n",
    "    'GradientBoosting': GradientBoostingRegressor(n_estimators=100, random_state=42),\n",
    "    'XGBoost': XGBRegressor(n_estimators=100, random_state=42),\n",
    "    'LightGBM': LGBMRegressor(n_estimators=100, random_state=42),\n",
    "    'Huber': HuberRegressor(),\n",
    "    'RANSAC': RANSACRegressor(random_state=42),\n",
    "    'MLP': MLPRegressor(hidden_layer_sizes=(100, 100), max_iter=500, random_state=42),\n",
    "    'CatBoost': CatBoostRegressor(verbose=0, random_state=42)\n",
    "}"
   ],
   "id": "2cb0b55cc9ac0b05",
   "outputs": [],
   "execution_count": 594
  },
  {
   "metadata": {
    "ExecuteTime": {
     "end_time": "2025-05-07T11:45:29.560511Z",
     "start_time": "2025-05-07T11:44:20.311540Z"
    }
   },
   "cell_type": "code",
   "source": [
    "preds = {}\n",
    "\n",
    "for name, model in models.items():\n",
    "    model.fit(X_train_transformed, Y_train)\n",
    "    pred = model.predict(X_test_transformed)\n",
    "    preds[name] = pred\n"
   ],
   "id": "ea82214bbdc35da8",
   "outputs": [
    {
     "name": "stdout",
     "output_type": "stream",
     "text": [
      "[LightGBM] [Info] Auto-choosing row-wise multi-threading, the overhead of testing was 0.000817 seconds.\n",
      "You can set `force_row_wise=true` to remove the overhead.\n",
      "And if memory is not enough, you can set `force_col_wise=true`.\n",
      "[LightGBM] [Info] Total Bins 1309\n",
      "[LightGBM] [Info] Number of data points in the train set: 12107, number of used features: 344\n",
      "[LightGBM] [Info] Start training from score 13.710910\n"
     ]
    },
    {
     "name": "stderr",
     "output_type": "stream",
     "text": [
      "C:\\Users\\samys\\PycharmProjects\\HousingPrices\\.venv\\Lib\\site-packages\\sklearn\\utils\\validation.py:2739: UserWarning: X does not have valid feature names, but LGBMRegressor was fitted with feature names\n",
      "  warnings.warn(\n",
      "C:\\Users\\samys\\PycharmProjects\\HousingPrices\\.venv\\Lib\\site-packages\\sklearn\\linear_model\\_huber.py:343: ConvergenceWarning: lbfgs failed to converge (status=1):\n",
      "STOP: TOTAL NO. OF ITERATIONS REACHED LIMIT.\n",
      "\n",
      "Increase the number of iterations (max_iter) or scale the data as shown in:\n",
      "    https://scikit-learn.org/stable/modules/preprocessing.html\n",
      "  self.n_iter_ = _check_optimize_result(\"lbfgs\", opt_res, self.max_iter)\n"
     ]
    }
   ],
   "execution_count": 595
  },
  {
   "metadata": {
    "ExecuteTime": {
     "end_time": "2025-05-07T11:45:29.648121Z",
     "start_time": "2025-05-07T11:45:29.643667Z"
    }
   },
   "cell_type": "code",
   "source": [
    "def print_error(name, y_pred_log):\n",
    "    print('---------------------------------------------------------\\n')\n",
    "    print(f'Model: {name}')\n",
    "    y_pred = np.expm1(y_pred_log)\n",
    "    y_true = np.expm1(Y_test)\n",
    "    mae = mean_absolute_error(y_true, y_pred)\n",
    "    mse = mean_squared_error(y_true, y_pred)\n",
    "    rmse = np.sqrt(mse)\n",
    "    r2 = r2_score(y_true, y_pred)\n",
    "\n",
    "    # Выводим результаты\n",
    "    print(f\"Mean Absolute Error (MAE): {mae}\")\n",
    "    print(f\"Mean Squared Error (MSE): {mse}\")\n",
    "    print(f\"Root Mean Squared Error (RMSE): {rmse}\")\n",
    "    print(f\"R² Score: {r2 * 100:.2f}%\")\n",
    "    print(f\"Predicted/Price_MEAN Error: {(mae / PRICE_MEAN * 100):.2f} %\")\n",
    "    print(f\"Predicted/Price_MEADIAN: {(mae / PRICE_MEDIAN * 100):.2f} %\")"
   ],
   "id": "772d58ae01f1f323",
   "outputs": [],
   "execution_count": 596
  },
  {
   "metadata": {
    "ExecuteTime": {
     "end_time": "2025-05-07T11:45:29.740906Z",
     "start_time": "2025-05-07T11:45:29.726525Z"
    }
   },
   "cell_type": "code",
   "source": [
    "for name, pred in preds.items():\n",
    "    print_error(name, pred)"
   ],
   "id": "cc1780d4bd5f395d",
   "outputs": [
    {
     "name": "stdout",
     "output_type": "stream",
     "text": [
      "---------------------------------------------------------\n",
      "\n",
      "Model: Linear\n",
      "Mean Absolute Error (MAE): 158026.05782150142\n",
      "Mean Squared Error (MSE): 48382859681.17739\n",
      "Root Mean Squared Error (RMSE): 219961.04128044445\n",
      "R² Score: 75.50%\n",
      "Predicted/Price_MEAN Error: 15.05 %\n",
      "Predicted/Price_MEADIAN: 18.16 %\n",
      "---------------------------------------------------------\n",
      "\n",
      "Model: Ridge\n",
      "Mean Absolute Error (MAE): 157694.96097929415\n",
      "Mean Squared Error (MSE): 48012531731.67278\n",
      "Root Mean Squared Error (RMSE): 219117.6207694689\n",
      "R² Score: 75.69%\n",
      "Predicted/Price_MEAN Error: 15.02 %\n",
      "Predicted/Price_MEADIAN: 18.13 %\n",
      "---------------------------------------------------------\n",
      "\n",
      "Model: Lasso\n",
      "Mean Absolute Error (MAE): 207532.26631617048\n",
      "Mean Squared Error (MSE): 76764171822.70187\n",
      "Root Mean Squared Error (RMSE): 277063.47977079527\n",
      "R² Score: 61.13%\n",
      "Predicted/Price_MEAN Error: 19.76 %\n",
      "Predicted/Price_MEADIAN: 23.85 %\n",
      "---------------------------------------------------------\n",
      "\n",
      "Model: RandomForest\n",
      "Mean Absolute Error (MAE): 137005.1553796817\n",
      "Mean Squared Error (MSE): 37251533965.01821\n",
      "Root Mean Squared Error (RMSE): 193006.56456457177\n",
      "R² Score: 81.14%\n",
      "Predicted/Price_MEAN Error: 13.05 %\n",
      "Predicted/Price_MEADIAN: 15.75 %\n",
      "---------------------------------------------------------\n",
      "\n",
      "Model: GradientBoosting\n",
      "Mean Absolute Error (MAE): 152172.82398273738\n",
      "Mean Squared Error (MSE): 44956094245.92826\n",
      "Root Mean Squared Error (RMSE): 212028.52224624937\n",
      "R² Score: 77.23%\n",
      "Predicted/Price_MEAN Error: 14.49 %\n",
      "Predicted/Price_MEADIAN: 17.49 %\n",
      "---------------------------------------------------------\n",
      "\n",
      "Model: XGBoost\n",
      "Mean Absolute Error (MAE): 133643.8334238685\n",
      "Mean Squared Error (MSE): 35965884416.4835\n",
      "Root Mean Squared Error (RMSE): 189646.7358445262\n",
      "R² Score: 81.79%\n",
      "Predicted/Price_MEAN Error: 12.73 %\n",
      "Predicted/Price_MEADIAN: 15.36 %\n",
      "---------------------------------------------------------\n",
      "\n",
      "Model: LightGBM\n",
      "Mean Absolute Error (MAE): 132558.04057440962\n",
      "Mean Squared Error (MSE): 35385031220.55865\n",
      "Root Mean Squared Error (RMSE): 188109.09393370285\n",
      "R² Score: 82.08%\n",
      "Predicted/Price_MEAN Error: 12.62 %\n",
      "Predicted/Price_MEADIAN: 15.24 %\n",
      "---------------------------------------------------------\n",
      "\n",
      "Model: Huber\n",
      "Mean Absolute Error (MAE): 156545.68776212656\n",
      "Mean Squared Error (MSE): 47090080095.352516\n",
      "Root Mean Squared Error (RMSE): 217002.48868469807\n",
      "R² Score: 76.15%\n",
      "Predicted/Price_MEAN Error: 14.91 %\n",
      "Predicted/Price_MEADIAN: 17.99 %\n",
      "---------------------------------------------------------\n",
      "\n",
      "Model: RANSAC\n",
      "Mean Absolute Error (MAE): 189995.60421431693\n",
      "Mean Squared Error (MSE): 563960852595.4237\n",
      "Root Mean Squared Error (RMSE): 750973.2702269927\n",
      "R² Score: -185.58%\n",
      "Predicted/Price_MEAN Error: 18.09 %\n",
      "Predicted/Price_MEADIAN: 21.84 %\n",
      "---------------------------------------------------------\n",
      "\n",
      "Model: MLP\n",
      "Mean Absolute Error (MAE): 176480.5068386636\n",
      "Mean Squared Error (MSE): 62096971661.91807\n",
      "Root Mean Squared Error (RMSE): 249192.6396624067\n",
      "R² Score: 68.56%\n",
      "Predicted/Price_MEAN Error: 16.80 %\n",
      "Predicted/Price_MEADIAN: 20.29 %\n",
      "---------------------------------------------------------\n",
      "\n",
      "Model: CatBoost\n",
      "Mean Absolute Error (MAE): 127349.49526451927\n",
      "Mean Squared Error (MSE): 32848595950.441048\n",
      "Root Mean Squared Error (RMSE): 181241.8162302537\n",
      "R² Score: 83.37%\n",
      "Predicted/Price_MEAN Error: 12.13 %\n",
      "Predicted/Price_MEADIAN: 14.64 %\n"
     ]
    }
   ],
   "execution_count": 597
  },
  {
   "metadata": {
    "ExecuteTime": {
     "end_time": "2025-05-07T11:45:29.826333Z",
     "start_time": "2025-05-07T11:45:29.822123Z"
    }
   },
   "cell_type": "code",
   "source": [
    "def crossValidationFit():\n",
    "    # Create scorers for multiple metrics\n",
    "    rmse_scorer = make_scorer(lambda y, y_pred: np.sqrt(mean_squared_error(y, y_pred)), greater_is_better=False)\n",
    "    r2_scorer = make_scorer(r2_score)\n",
    "\n",
    "    # Set up k-fold cross validation\n",
    "    kf = KFold(n_splits=5, shuffle=True, random_state=42)\n",
    "\n",
    "    # Perform cross-validation for different metrics\n",
    "    rmse_scores = cross_val_score(models['CatBoost'], X_train_transformed, np.expm1(Y_train),\n",
    "                                  scoring=rmse_scorer, cv=kf)\n",
    "    r2_scores = cross_val_score(models['CatBoost'], X_train_transformed, np.expm1(Y_train),\n",
    "                                scoring=r2_scorer, cv=kf)\n",
    "    mae_scores = cross_val_score(models['CatBoost'], X_train_transformed, np.expm1(Y_train),\n",
    "                                 scoring='neg_mean_absolute_error', cv=kf)\n",
    "\n",
    "\n",
    "    print(\"Cross-validation results:\")\n",
    "    print(f\"RMSE scores: {-rmse_scores}\")  # Negative because scorer is negative for minimization\n",
    "    print(f\"Average RMSE: {-rmse_scores.mean():.4f} (+/- {rmse_scores.std() * 2:.4f})\")\n",
    "    print(f\"\\nR² scores: {r2_scores}\")\n",
    "    print(f\"Average MAE: {r2_scores.mean():.4f} (+/- {r2_scores.std() * 2:.4f})\")\n",
    "    print(f\"\\nMAE scores: {mae_scores}\")\n",
    "    print(f\"Average MAE: {mae_scores.mean():.4f} (+/- {mae_scores.std() * 2:.4f})\")\n"
   ],
   "id": "96551e2cf86b3114",
   "outputs": [],
   "execution_count": 598
  },
  {
   "metadata": {
    "ExecuteTime": {
     "end_time": "2025-05-07T11:46:18.602142Z",
     "start_time": "2025-05-07T11:45:29.903848Z"
    }
   },
   "cell_type": "code",
   "source": "crossValidationFit()",
   "id": "9b75620c718681f0",
   "outputs": [
    {
     "name": "stdout",
     "output_type": "stream",
     "text": [
      "Cross-validation results:\n",
      "RMSE scores: [190275.03883659 187687.21943144 186927.88474346 180172.35619986\n",
      " 190433.91059795]\n",
      "Average RMSE: 187099.2820 (+/- 7459.8943)\n",
      "\n",
      "R² scores: [0.81384206 0.81912697 0.81704383 0.83472229 0.81599693]\n",
      "Average MAE: 0.8201 (+/- 0.0150)\n",
      "\n",
      "MAE scores: [-135636.24063349 -132202.50067512 -131795.7824305  -131306.05419974\n",
      " -137071.01900855]\n",
      "Average MAE: -133602.3194 (+/- 4618.6244)\n"
     ]
    }
   ],
   "execution_count": 599
  },
  {
   "metadata": {
    "ExecuteTime": {
     "end_time": "2025-05-07T11:46:18.686671Z",
     "start_time": "2025-05-07T11:46:18.681715Z"
    }
   },
   "cell_type": "code",
   "source": [
    "from scipy.stats import uniform, randint\n",
    "\n",
    "def randomSearchFit():\n",
    "    rmse_scorer = make_scorer(mean_squared_error, greater_is_better=False)\n",
    "\n",
    "    param_dist = {\n",
    "        'depth': [4, 6, 8, 10],\n",
    "        'learning_rate': [0.01, 0.03, 0.05, 0.1],\n",
    "        'iterations': [200, 500, 1000],\n",
    "        'l2_leaf_reg': [1, 3, 5, 7, 9]\n",
    "    }\n",
    "\n",
    "    param_random_prof = {\n",
    "        'iterations': randint(500, 1500),                    # с расчетом на раннюю остановку\n",
    "        'learning_rate': uniform(0.01, 0.3),                 # от 0.01 до 0.31\n",
    "        'depth': randint(4, 11),                             # от 4 до 10\n",
    "        'l2_leaf_reg': uniform(1, 9),                        # от 1 до 10\n",
    "        'bagging_temperature': uniform(0, 1.5),              # от 0 до 1.5\n",
    "        'random_strength': uniform(0, 10),                   # от 0 до 10\n",
    "        'rsm': uniform(0.5, 0.5),                            # от 0.5 до 1.0\n",
    "        'subsample': uniform(0.6, 0.4),                      # от 0.6 до 1.0\n",
    "        'scale_pos_weight': uniform(0.5, 4.5),               # от 0.5 до 5.0 (только для бинарной классификации)\n",
    "    }\n",
    "\n",
    "\n",
    "    cat = CatBoostRegressor(verbose=0, random_state=42)\n",
    "\n",
    "    search = RandomizedSearchCV(\n",
    "        cat,\n",
    "        param_distributions=param_dist,\n",
    "        n_iter=20,\n",
    "        scoring=rmse_scorer,\n",
    "        cv=5,\n",
    "        verbose=1,\n",
    "        random_state=42,\n",
    "        n_jobs=-1\n",
    "    )\n",
    "\n",
    "    search.fit(X_train_transformed, Y_train)\n",
    "\n",
    "    print(\"Лучшие параметры:\", search.best_params_)\n",
    "    print(\"Лучшее значение RMSE (на CV):\", -search.best_score_)\n",
    "\n",
    "\n",
    "    best_model = search.best_estimator_\n",
    "\n",
    "    y_pred_log = best_model.predict(X_test_transformed)\n",
    "\n",
    "    print_error(\"CatBoost (поиск по сетке)\", y_pred_log)\n",
    "    return best_model\n"
   ],
   "id": "d36ce57fafec7d3c",
   "outputs": [],
   "execution_count": 600
  },
  {
   "metadata": {
    "ExecuteTime": {
     "end_time": "2025-05-07T11:48:52.216805Z",
     "start_time": "2025-05-07T11:46:18.769303Z"
    }
   },
   "cell_type": "code",
   "source": "random_search_best = randomSearchFit()",
   "id": "3967cfc207d831f",
   "outputs": [
    {
     "name": "stdout",
     "output_type": "stream",
     "text": [
      "Fitting 5 folds for each of 20 candidates, totalling 100 fits\n",
      "Лучшие параметры: {'learning_rate': 0.05, 'l2_leaf_reg': 5, 'iterations': 1000, 'depth': 10}\n",
      "Лучшее значение RMSE (на CV): 0.03000316435240638\n",
      "---------------------------------------------------------\n",
      "\n",
      "Model: CatBoost (поиск по сетке)\n",
      "Mean Absolute Error (MAE): 126613.85450136646\n",
      "Mean Squared Error (MSE): 32437609475.834602\n",
      "Root Mean Squared Error (RMSE): 180104.44046673196\n",
      "R² Score: 83.57%\n",
      "Predicted/Price_MEAN Error: 12.06 %\n",
      "Predicted/Price_MEADIAN: 14.55 %\n"
     ]
    }
   ],
   "execution_count": 601
  },
  {
   "metadata": {
    "ExecuteTime": {
     "end_time": "2025-05-07T11:48:52.308776Z",
     "start_time": "2025-05-07T11:48:52.303996Z"
    }
   },
   "cell_type": "code",
   "source": [
    "\n",
    "def gridSearchFit():\n",
    "    rmse_scorer = make_scorer(mean_squared_error, greater_is_better=False)\n",
    "    cv = KFold(n_splits=5, shuffle=True, random_state=42)\n",
    "\n",
    "    cat_grid = CatBoostRegressor(verbose=0, random_state=42)\n",
    "\n",
    "    param_grid_prof = {\n",
    "    'iterations': [500, 1000, 1500],\n",
    "    'learning_rate': [0.01, 0.05, 0.1, 0.2],\n",
    "    'depth': [4, 6, 8, 10],\n",
    "    'l2_leaf_reg': [1, 3, 5, 7, 10],\n",
    "    'bagging_temperature': [0, 0.5, 1],\n",
    "    'random_strength': [0, 1, 5, 10],\n",
    "    'rsm': [0.5, 0.8, 1.0],\n",
    "    'subsample': [0.6, 0.8, 1.0],\n",
    "    'scale_pos_weight': [1, 2, 3, 5]  # применимо только при дисбалансе классов в бинарной классификации\n",
    "    }\n",
    "\n",
    "\n",
    "    param_grid = {\n",
    "        'depth': [4, 6, 8],\n",
    "        'learning_rate': [0.01, 0.05, 0.1],\n",
    "        'iterations': [100, 300, 500]\n",
    "    }\n",
    "\n",
    "    grid_search = GridSearchCV(\n",
    "        estimator=cat_grid,\n",
    "        param_grid=param_grid,\n",
    "        scoring=rmse_scorer,\n",
    "        cv=cv,\n",
    "        n_jobs=-1\n",
    "    )\n",
    "\n",
    "    grid_search.fit(X_train_transformed, Y_train)\n",
    "    print(\"Лучшая комбинация гиперпараметров:\")\n",
    "    print(grid_search.best_params_)\n",
    "\n",
    "    print(\"\\nЛучший (наименьший) RMSE (по CV):\")\n",
    "    print(f\"{-grid_search.best_score_:.4f}\")\n",
    "    best_model = grid_search.best_estimator_\n",
    "\n",
    "    grid_predict = best_model.predict(X_test_transformed)\n",
    "\n",
    "    print_error(\"GridSearch CatBoost (поиск по сетке)\", grid_predict)\n",
    "    return best_model"
   ],
   "id": "9a0d47025e0fa3a6",
   "outputs": [],
   "execution_count": 602
  },
  {
   "metadata": {
    "ExecuteTime": {
     "end_time": "2025-05-07T11:49:43.090365Z",
     "start_time": "2025-05-07T11:48:52.389064Z"
    }
   },
   "cell_type": "code",
   "source": "grid_search_best = gridSearchFit()",
   "id": "ab4b2b2ec582e6e0",
   "outputs": [
    {
     "name": "stdout",
     "output_type": "stream",
     "text": [
      "Лучшая комбинация гиперпараметров:\n",
      "{'depth': 8, 'iterations': 500, 'learning_rate': 0.1}\n",
      "\n",
      "Лучший (наименьший) RMSE (по CV):\n",
      "0.0301\n",
      "---------------------------------------------------------\n",
      "\n",
      "Model: GridSearch CatBoost (поиск по сетке)\n",
      "Mean Absolute Error (MAE): 126877.36472366992\n",
      "Mean Squared Error (MSE): 32259868296.715187\n",
      "Root Mean Squared Error (RMSE): 179610.3234692126\n",
      "R² Score: 83.66%\n",
      "Predicted/Price_MEAN Error: 12.08 %\n",
      "Predicted/Price_MEADIAN: 14.58 %\n"
     ]
    }
   ],
   "execution_count": 603
  },
  {
   "metadata": {
    "ExecuteTime": {
     "end_time": "2025-05-07T11:49:43.197029Z",
     "start_time": "2025-05-07T11:49:43.177737Z"
    }
   },
   "cell_type": "code",
   "source": [
    "# good_model = models['CatBoost']\n",
    "# good_model = random_search_best\n",
    "good_model = grid_search_best\n",
    "\n",
    "random_house = test_set_clean.sample(n=5)\n",
    "\n",
    "display(random_house)\n",
    "\n",
    "random_house_X = random_house.drop(columns=[\"Price\"])\n",
    "random_house_Y = random_house[\"Price\"]\n",
    "\n",
    "random_house_transformed = pipeline.transform(random_house_X)\n",
    "random_prediction = good_model.predict(random_house_transformed)\n",
    "\n",
    "for i, price in enumerate(random_house_Y):\n",
    "    print(f'True value : {np.expm1(price)}')\n",
    "    print(f'Predicted value : {np.expm1(random_prediction[i])}')\n",
    "    print(f'Error : {abs(np.expm1(price) - np.expm1(random_prediction[i]))}')\n",
    "    print('---------------------------------------------')\n"
   ],
   "id": "9f89afa01836ea4f",
   "outputs": [
    {
     "data": {
      "text/plain": [
       "         Suburb  Rooms Type      Price Method   SellerG        Date  Distance  \\\n",
       "8091    Prahran      3    h  14.357835      S    Jellis  28/05/2016       4.5   \n",
       "18359  Werribee      3    h  13.087774      S       Ray  12/08/2017      14.7   \n",
       "31167    Eltham      3    h  13.618280      S  Morrison  10/02/2018      18.0   \n",
       "8227    Preston      3    h  13.592368     PI  Chambers  18/03/2017       8.8   \n",
       "34568   Newport      4    h  13.955273      S  Williams  24/02/2018       6.2   \n",
       "\n",
       "       Bedroom2  Bathroom  Car  Landsize               CouncilArea  \\\n",
       "8091        3.0       2.0  1.0     272.0  Stonnington City Council   \n",
       "18359       3.0       1.0  2.0     569.0      Wyndham City Council   \n",
       "31167       3.0       1.0  2.0     677.0      Banyule City Council   \n",
       "8227        3.0       1.0  2.0     516.0      Darebin City Council   \n",
       "34568       4.0       2.0  1.0     418.0  Hobsons Bay City Council   \n",
       "\n",
       "                  Regionname  Propertycount  \n",
       "8091   Southern Metropolitan         7717.0  \n",
       "18359   Western Metropolitan        16166.0  \n",
       "31167   Eastern Metropolitan         6990.0  \n",
       "8227   Northern Metropolitan        14577.0  \n",
       "34568   Western Metropolitan         5498.0  "
      ],
      "text/html": [
       "<div>\n",
       "<style scoped>\n",
       "    .dataframe tbody tr th:only-of-type {\n",
       "        vertical-align: middle;\n",
       "    }\n",
       "\n",
       "    .dataframe tbody tr th {\n",
       "        vertical-align: top;\n",
       "    }\n",
       "\n",
       "    .dataframe thead th {\n",
       "        text-align: right;\n",
       "    }\n",
       "</style>\n",
       "<table border=\"1\" class=\"dataframe\">\n",
       "  <thead>\n",
       "    <tr style=\"text-align: right;\">\n",
       "      <th></th>\n",
       "      <th>Suburb</th>\n",
       "      <th>Rooms</th>\n",
       "      <th>Type</th>\n",
       "      <th>Price</th>\n",
       "      <th>Method</th>\n",
       "      <th>SellerG</th>\n",
       "      <th>Date</th>\n",
       "      <th>Distance</th>\n",
       "      <th>Bedroom2</th>\n",
       "      <th>Bathroom</th>\n",
       "      <th>Car</th>\n",
       "      <th>Landsize</th>\n",
       "      <th>CouncilArea</th>\n",
       "      <th>Regionname</th>\n",
       "      <th>Propertycount</th>\n",
       "    </tr>\n",
       "  </thead>\n",
       "  <tbody>\n",
       "    <tr>\n",
       "      <th>8091</th>\n",
       "      <td>Prahran</td>\n",
       "      <td>3</td>\n",
       "      <td>h</td>\n",
       "      <td>14.357835</td>\n",
       "      <td>S</td>\n",
       "      <td>Jellis</td>\n",
       "      <td>28/05/2016</td>\n",
       "      <td>4.5</td>\n",
       "      <td>3.0</td>\n",
       "      <td>2.0</td>\n",
       "      <td>1.0</td>\n",
       "      <td>272.0</td>\n",
       "      <td>Stonnington City Council</td>\n",
       "      <td>Southern Metropolitan</td>\n",
       "      <td>7717.0</td>\n",
       "    </tr>\n",
       "    <tr>\n",
       "      <th>18359</th>\n",
       "      <td>Werribee</td>\n",
       "      <td>3</td>\n",
       "      <td>h</td>\n",
       "      <td>13.087774</td>\n",
       "      <td>S</td>\n",
       "      <td>Ray</td>\n",
       "      <td>12/08/2017</td>\n",
       "      <td>14.7</td>\n",
       "      <td>3.0</td>\n",
       "      <td>1.0</td>\n",
       "      <td>2.0</td>\n",
       "      <td>569.0</td>\n",
       "      <td>Wyndham City Council</td>\n",
       "      <td>Western Metropolitan</td>\n",
       "      <td>16166.0</td>\n",
       "    </tr>\n",
       "    <tr>\n",
       "      <th>31167</th>\n",
       "      <td>Eltham</td>\n",
       "      <td>3</td>\n",
       "      <td>h</td>\n",
       "      <td>13.618280</td>\n",
       "      <td>S</td>\n",
       "      <td>Morrison</td>\n",
       "      <td>10/02/2018</td>\n",
       "      <td>18.0</td>\n",
       "      <td>3.0</td>\n",
       "      <td>1.0</td>\n",
       "      <td>2.0</td>\n",
       "      <td>677.0</td>\n",
       "      <td>Banyule City Council</td>\n",
       "      <td>Eastern Metropolitan</td>\n",
       "      <td>6990.0</td>\n",
       "    </tr>\n",
       "    <tr>\n",
       "      <th>8227</th>\n",
       "      <td>Preston</td>\n",
       "      <td>3</td>\n",
       "      <td>h</td>\n",
       "      <td>13.592368</td>\n",
       "      <td>PI</td>\n",
       "      <td>Chambers</td>\n",
       "      <td>18/03/2017</td>\n",
       "      <td>8.8</td>\n",
       "      <td>3.0</td>\n",
       "      <td>1.0</td>\n",
       "      <td>2.0</td>\n",
       "      <td>516.0</td>\n",
       "      <td>Darebin City Council</td>\n",
       "      <td>Northern Metropolitan</td>\n",
       "      <td>14577.0</td>\n",
       "    </tr>\n",
       "    <tr>\n",
       "      <th>34568</th>\n",
       "      <td>Newport</td>\n",
       "      <td>4</td>\n",
       "      <td>h</td>\n",
       "      <td>13.955273</td>\n",
       "      <td>S</td>\n",
       "      <td>Williams</td>\n",
       "      <td>24/02/2018</td>\n",
       "      <td>6.2</td>\n",
       "      <td>4.0</td>\n",
       "      <td>2.0</td>\n",
       "      <td>1.0</td>\n",
       "      <td>418.0</td>\n",
       "      <td>Hobsons Bay City Council</td>\n",
       "      <td>Western Metropolitan</td>\n",
       "      <td>5498.0</td>\n",
       "    </tr>\n",
       "  </tbody>\n",
       "</table>\n",
       "</div>"
      ]
     },
     "metadata": {},
     "output_type": "display_data"
    },
    {
     "name": "stdout",
     "output_type": "stream",
     "text": [
      "True value : 1719999.9999999998\n",
      "Predicted value : 1721764.6147337076\n",
      "Error : 1764.6147337078582\n",
      "---------------------------------------------\n",
      "True value : 483000.00000000023\n",
      "Predicted value : 503377.5612549228\n",
      "Error : 20377.56125492259\n",
      "---------------------------------------------\n",
      "True value : 820999.9999999998\n",
      "Predicted value : 885302.0359030379\n",
      "Error : 64302.03590303811\n",
      "---------------------------------------------\n",
      "True value : 800000.0000000005\n",
      "Predicted value : 891318.2313057858\n",
      "Error : 91318.23130578536\n",
      "---------------------------------------------\n",
      "True value : 1150000.0000000005\n",
      "Predicted value : 1379579.9642103298\n",
      "Error : 229579.96421032934\n",
      "---------------------------------------------\n"
     ]
    }
   ],
   "execution_count": 604
  },
  {
   "metadata": {
    "ExecuteTime": {
     "end_time": "2025-05-07T11:49:43.302823Z",
     "start_time": "2025-05-07T11:49:43.299504Z"
    }
   },
   "cell_type": "code",
   "source": "print(TRAINING_L_U)",
   "id": "6d4907051a280f4b",
   "outputs": [
    {
     "name": "stdout",
     "output_type": "stream",
     "text": [
      "[['Distance', np.float64(-4.999999999999998), np.float64(25.4)], ['Bedroom2', np.float64(-1.0), np.float64(7.0)], ['Bathroom', np.float64(-0.5), np.float64(3.5)], ['Car', np.float64(-0.5), np.float64(3.5)]]\n"
     ]
    }
   ],
   "execution_count": 605
  },
  {
   "metadata": {
    "ExecuteTime": {
     "end_time": "2025-05-07T11:49:43.431632Z",
     "start_time": "2025-05-07T11:49:43.425502Z"
    }
   },
   "cell_type": "code",
   "source": [
    "def filter_by_training_bounds(df, training_bounds):\n",
    "    df_filtered = df.copy()\n",
    "    mask = pd.Series(True, index=df.index)\n",
    "    # Используем входной параметр training_bounds вместо глобальной переменной\n",
    "    bounds = [x for x in training_bounds if x[0] != 'Price']\n",
    "    for col, lower, upper in bounds:\n",
    "        mask &= (df_filtered[col] >= lower) & (df_filtered[col] <= upper)\n",
    "    return df_filtered[mask]\n",
    "\n",
    "# Использование:\n",
    "filtered_final_set = filter_by_training_bounds(final_test, TRAINING_L_U)\n",
    "print(f\"Число подходящих строк: {len(filtered_final_set)} из {len(final_test)}\")"
   ],
   "id": "ea6f5bd970f40c20",
   "outputs": [
    {
     "name": "stdout",
     "output_type": "stream",
     "text": [
      "Число подходящих строк: 5064 из 7610\n"
     ]
    }
   ],
   "execution_count": 606
  },
  {
   "metadata": {
    "ExecuteTime": {
     "end_time": "2025-05-07T11:53:38.791700Z",
     "start_time": "2025-05-07T11:53:38.707873Z"
    }
   },
   "cell_type": "code",
   "source": [
    "# Подготовка данных для предсказания\n",
    "final_set = final_test.copy()\n",
    "filtered_final_X = filtered_final_set.drop(columns=[\"Price\"])\n",
    "filtered_final_transformed = pipeline.transform(filtered_final_X)\n",
    "\n",
    "# Получение предсказаний\n",
    "# predictions = models['CatBoost'].predict(filtered_final_transformed)\n",
    "predictions = good_model.predict(filtered_final_transformed)\n",
    "\n",
    "# Преобразование предсказанных логарифмированных цен обратно\n",
    "predicted_prices = np.expm1(predictions)\n",
    "\n",
    "# Запись предсказанных цен в DataFrame\n",
    "final_set.loc[filtered_final_set.index, 'Price'] = predicted_prices\n",
    "\n",
    "# Сохранение в CSV\n",
    "final_set.to_csv('predicted_house_prices.csv', index=False)\n"
   ],
   "id": "3e7890e49541af68",
   "outputs": [],
   "execution_count": 608
  }
 ],
 "metadata": {
  "kernelspec": {
   "display_name": "Python 3",
   "language": "python",
   "name": "python3"
  },
  "language_info": {
   "codemirror_mode": {
    "name": "ipython",
    "version": 2
   },
   "file_extension": ".py",
   "mimetype": "text/x-python",
   "name": "python",
   "nbconvert_exporter": "python",
   "pygments_lexer": "ipython2",
   "version": "2.7.6"
  }
 },
 "nbformat": 4,
 "nbformat_minor": 5
}
