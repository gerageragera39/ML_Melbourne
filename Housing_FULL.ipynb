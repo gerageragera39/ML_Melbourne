{
 "cells": [
  {
   "cell_type": "code",
   "id": "initial_id",
   "metadata": {
    "collapsed": true,
    "ExecuteTime": {
     "end_time": "2025-05-06T12:46:09.879043Z",
     "start_time": "2025-05-06T12:46:09.875878Z"
    }
   },
   "source": [
    "import pandas as pd\n",
    "import matplotlib.pyplot as plt\n",
    "import seaborn as sns\n",
    "from IPython.display import display\n",
    "from sklearn.model_selection import train_test_split\n",
    "from sklearn.preprocessing import StandardScaler\n",
    "import numpy as np"
   ],
   "outputs": [],
   "execution_count": 996
  },
  {
   "metadata": {
    "ExecuteTime": {
     "end_time": "2025-05-06T12:46:09.984666Z",
     "start_time": "2025-05-06T12:46:09.981723Z"
    }
   },
   "cell_type": "code",
   "source": [
    "HOUSING_PATH_FULL='C:/Users/samys/PycharmProjects/HousingPrices/data/Melbourne_housing_FULL.csv'\n",
    "\n",
    "def load_housing_data(housing_path=HOUSING_PATH_FULL):\n",
    "    return pd.read_csv(housing_path)"
   ],
   "id": "3477c304ae04c201",
   "outputs": [],
   "execution_count": 997
  },
  {
   "metadata": {
    "ExecuteTime": {
     "end_time": "2025-05-06T12:46:10.149304Z",
     "start_time": "2025-05-06T12:46:10.065927Z"
    }
   },
   "cell_type": "code",
   "source": [
    "loaded_data = load_housing_data()\n",
    "loaded_data.info()"
   ],
   "id": "da29aa87a573c9fb",
   "outputs": [
    {
     "name": "stdout",
     "output_type": "stream",
     "text": [
      "<class 'pandas.core.frame.DataFrame'>\n",
      "RangeIndex: 34857 entries, 0 to 34856\n",
      "Data columns (total 21 columns):\n",
      " #   Column         Non-Null Count  Dtype  \n",
      "---  ------         --------------  -----  \n",
      " 0   Suburb         34857 non-null  object \n",
      " 1   Address        34857 non-null  object \n",
      " 2   Rooms          34857 non-null  int64  \n",
      " 3   Type           34857 non-null  object \n",
      " 4   Price          27247 non-null  float64\n",
      " 5   Method         34857 non-null  object \n",
      " 6   SellerG        34857 non-null  object \n",
      " 7   Date           34857 non-null  object \n",
      " 8   Distance       34856 non-null  float64\n",
      " 9   Postcode       34856 non-null  float64\n",
      " 10  Bedroom2       26640 non-null  float64\n",
      " 11  Bathroom       26631 non-null  float64\n",
      " 12  Car            26129 non-null  float64\n",
      " 13  Landsize       23047 non-null  float64\n",
      " 14  BuildingArea   13742 non-null  float64\n",
      " 15  YearBuilt      15551 non-null  float64\n",
      " 16  CouncilArea    34854 non-null  object \n",
      " 17  Lattitude      26881 non-null  float64\n",
      " 18  Longtitude     26881 non-null  float64\n",
      " 19  Regionname     34854 non-null  object \n",
      " 20  Propertycount  34854 non-null  float64\n",
      "dtypes: float64(12), int64(1), object(8)\n",
      "memory usage: 5.6+ MB\n"
     ]
    }
   ],
   "execution_count": 998
  },
  {
   "metadata": {
    "ExecuteTime": {
     "end_time": "2025-05-06T12:46:10.248141Z",
     "start_time": "2025-05-06T12:46:10.237891Z"
    }
   },
   "cell_type": "code",
   "source": [
    "train_val_set = loaded_data.dropna(subset=['Price'])\n",
    "final_test = loaded_data[loaded_data['Price'].isna()]\n",
    "\n",
    "new_column_names = {'Lattitude': 'Latitude', 'Longtitude': 'Longitude'}\n",
    "melb_data = train_val_set.rename(columns=new_column_names)"
   ],
   "id": "e330375862edadd7",
   "outputs": [],
   "execution_count": 999
  },
  {
   "metadata": {
    "ExecuteTime": {
     "end_time": "2025-05-06T12:46:10.351087Z",
     "start_time": "2025-05-06T12:46:10.347248Z"
    }
   },
   "cell_type": "code",
   "source": [
    "def remove_outliers_iqr_all(df, columns, factor=1.5):\n",
    "    df_clean = df.copy()\n",
    "    for col in columns:\n",
    "        Q1 = df_clean[col].quantile(0.25)\n",
    "        Q3 = df_clean[col].quantile(0.75)\n",
    "        IQR = Q3 - Q1\n",
    "        lower = Q1 - factor * IQR\n",
    "        upper = Q3 + factor * IQR\n",
    "        outliers = df_clean[(df_clean[col] < lower) | (df_clean[col] > upper)]\n",
    "        print(f\"Number of outliers in {col}: {len(outliers)}\")\n",
    "        df_clean = df_clean[(df_clean[col] >= lower) & (df_clean[col] <= upper)]\n",
    "    return df_clean"
   ],
   "id": "b5881890249ef9e9",
   "outputs": [],
   "execution_count": 1000
  },
  {
   "metadata": {
    "ExecuteTime": {
     "end_time": "2025-05-06T12:46:10.454211Z",
     "start_time": "2025-05-06T12:46:10.431250Z"
    }
   },
   "cell_type": "code",
   "source": [
    "cols = ['Price', 'Rooms', 'Bedroom2', 'Bathroom']\n",
    "melb_data = remove_outliers_iqr_all(melb_data, cols)"
   ],
   "id": "76b5a76893990087",
   "outputs": [
    {
     "name": "stdout",
     "output_type": "stream",
     "text": [
      "Number of outliers in Price: 1278\n",
      "Number of outliers in Rooms: 1029\n",
      "Number of outliers in Bedroom2: 41\n",
      "Number of outliers in Bathroom: 40\n"
     ]
    }
   ],
   "execution_count": 1001
  },
  {
   "metadata": {
    "ExecuteTime": {
     "end_time": "2025-05-06T12:46:10.555978Z",
     "start_time": "2025-05-06T12:46:10.541709Z"
    }
   },
   "cell_type": "code",
   "source": [
    "train_set, test_set = train_test_split(melb_data, test_size=0.2, random_state=42)\n",
    "train_set.info()"
   ],
   "id": "f1d9e470a23d5b28",
   "outputs": [
    {
     "name": "stdout",
     "output_type": "stream",
     "text": [
      "<class 'pandas.core.frame.DataFrame'>\n",
      "Index: 15017 entries, 10049 to 28704\n",
      "Data columns (total 21 columns):\n",
      " #   Column         Non-Null Count  Dtype  \n",
      "---  ------         --------------  -----  \n",
      " 0   Suburb         15017 non-null  object \n",
      " 1   Address        15017 non-null  object \n",
      " 2   Rooms          15017 non-null  int64  \n",
      " 3   Type           15017 non-null  object \n",
      " 4   Price          15017 non-null  float64\n",
      " 5   Method         15017 non-null  object \n",
      " 6   SellerG        15017 non-null  object \n",
      " 7   Date           15017 non-null  object \n",
      " 8   Distance       15017 non-null  float64\n",
      " 9   Postcode       15017 non-null  float64\n",
      " 10  Bedroom2       15017 non-null  float64\n",
      " 11  Bathroom       15017 non-null  float64\n",
      " 12  Car            14725 non-null  float64\n",
      " 13  Landsize       13000 non-null  float64\n",
      " 14  BuildingArea   7576 non-null   float64\n",
      " 15  YearBuilt      8645 non-null   float64\n",
      " 16  CouncilArea    15017 non-null  object \n",
      " 17  Latitude       15000 non-null  float64\n",
      " 18  Longitude      15000 non-null  float64\n",
      " 19  Regionname     15017 non-null  object \n",
      " 20  Propertycount  15017 non-null  float64\n",
      "dtypes: float64(12), int64(1), object(8)\n",
      "memory usage: 2.5+ MB\n"
     ]
    }
   ],
   "execution_count": 1002
  },
  {
   "metadata": {
    "ExecuteTime": {
     "end_time": "2025-05-06T12:46:10.652453Z",
     "start_time": "2025-05-06T12:46:10.648662Z"
    }
   },
   "cell_type": "code",
   "source": [
    "\n",
    "train_set['Price'] = np.log1p(train_set['Price'])\n",
    "test_set['Price'] = np.log1p(test_set['Price'])\n"
   ],
   "id": "5e4d110e09bf99fe",
   "outputs": [],
   "execution_count": 1003
  },
  {
   "metadata": {
    "ExecuteTime": {
     "end_time": "2025-05-06T12:46:10.745429Z",
     "start_time": "2025-05-06T12:46:10.737923Z"
    }
   },
   "cell_type": "code",
   "source": [
    "housing = train_set.copy()\n",
    "numerical_features = train_set.select_dtypes(include=['int64', 'float64']).columns.tolist()\n",
    "categorical_features = train_set.select_dtypes(include=['object']).columns.tolist()\n",
    "\n",
    "print(\"Numerical features:\", numerical_features)\n",
    "print(\"Categorical features:\", categorical_features)\n"
   ],
   "id": "8bb692015ae9aed",
   "outputs": [
    {
     "name": "stdout",
     "output_type": "stream",
     "text": [
      "Numerical features: ['Rooms', 'Price', 'Distance', 'Postcode', 'Bedroom2', 'Bathroom', 'Car', 'Landsize', 'BuildingArea', 'YearBuilt', 'Latitude', 'Longitude', 'Propertycount']\n",
      "Categorical features: ['Suburb', 'Address', 'Type', 'Method', 'SellerG', 'Date', 'CouncilArea', 'Regionname']\n"
     ]
    }
   ],
   "execution_count": 1004
  },
  {
   "metadata": {
    "ExecuteTime": {
     "end_time": "2025-05-06T12:46:11.999025Z",
     "start_time": "2025-05-06T12:46:10.837988Z"
    }
   },
   "cell_type": "code",
   "source": [
    "housing_num = housing[numerical_features]\n",
    "housing.hist(bins=50, figsize=(20, 15))"
   ],
   "id": "bc25b7c0987eab02",
   "outputs": [
    {
     "data": {
      "text/plain": [
       "array([[<Axes: title={'center': 'Rooms'}>,\n",
       "        <Axes: title={'center': 'Price'}>,\n",
       "        <Axes: title={'center': 'Distance'}>,\n",
       "        <Axes: title={'center': 'Postcode'}>],\n",
       "       [<Axes: title={'center': 'Bedroom2'}>,\n",
       "        <Axes: title={'center': 'Bathroom'}>,\n",
       "        <Axes: title={'center': 'Car'}>,\n",
       "        <Axes: title={'center': 'Landsize'}>],\n",
       "       [<Axes: title={'center': 'BuildingArea'}>,\n",
       "        <Axes: title={'center': 'YearBuilt'}>,\n",
       "        <Axes: title={'center': 'Latitude'}>,\n",
       "        <Axes: title={'center': 'Longitude'}>],\n",
       "       [<Axes: title={'center': 'Propertycount'}>, <Axes: >, <Axes: >,\n",
       "        <Axes: >]], dtype=object)"
      ]
     },
     "execution_count": 1005,
     "metadata": {},
     "output_type": "execute_result"
    },
    {
     "data": {
      "text/plain": [
       "<Figure size 2000x1500 with 16 Axes>"
      ],
      "image/png": "[encoded data removed]"
     },
     "metadata": {},
     "output_type": "display_data"
    }
   ],
   "execution_count": 1005
  },
  {
   "metadata": {
    "ExecuteTime": {
     "end_time": "2025-05-06T12:46:12.119503Z",
     "start_time": "2025-05-06T12:46:12.108378Z"
    }
   },
   "cell_type": "code",
   "source": [
    "corr_matrix = housing_num.corr()\n",
    "corr_matrix[\"Price\"].sort_values(ascending=False)"
   ],
   "id": "5d8f8b2e450f4e24",
   "outputs": [
    {
     "data": {
      "text/plain": [
       "Price            1.000000\n",
       "Rooms            0.444518\n",
       "Bedroom2         0.432617\n",
       "Bathroom         0.301569\n",
       "BuildingArea     0.263569\n",
       "Longitude        0.250591\n",
       "Car              0.165949\n",
       "Landsize         0.025603\n",
       "Postcode        -0.007781\n",
       "Propertycount   -0.082686\n",
       "Distance        -0.224214\n",
       "Latitude        -0.225343\n",
       "YearBuilt       -0.382245\n",
       "Name: Price, dtype: float64"
      ]
     },
     "execution_count": 1006,
     "metadata": {},
     "output_type": "execute_result"
    }
   ],
   "execution_count": 1006
  },
  {
   "metadata": {
    "ExecuteTime": {
     "end_time": "2025-05-06T12:46:12.595978Z",
     "start_time": "2025-05-06T12:46:12.250137Z"
    }
   },
   "cell_type": "code",
   "source": [
    "fig, axes = plt.subplots(1, 3, figsize=(15, 5))\n",
    "\n",
    "# Price vs Rooms\n",
    "sns.boxplot(data=housing, x='Rooms', y='Price', ax=axes[0])\n",
    "axes[0].set_title('Price Distribution by Rooms')\n",
    "axes[0].tick_params(axis='x', rotation=45)\n",
    "\n",
    "# Price vs Bedrooms\n",
    "sns.boxplot(data=housing, x='Bedroom2', y='Price', ax=axes[1])\n",
    "axes[1].set_title('Price Distribution by Bedrooms')\n",
    "axes[1].tick_params(axis='x', rotation=45)\n",
    "\n",
    "# Price vs Bathrooms\n",
    "sns.boxplot(data=housing, x='Bathroom', y='Price', ax=axes[2])\n",
    "axes[2].set_title('Price Distribution by Bathrooms')\n",
    "axes[2].tick_params(axis='x', rotation=45)\n",
    "\n",
    "plt.tight_layout()"
   ],
   "id": "e720dc27cbdd2f74",
   "outputs": [
    {
     "data": {
      "text/plain": [
       "<Figure size 1500x500 with 3 Axes>"
      ],
      "image/png": "[encoded data removed]"
     },
     "metadata": {},
     "output_type": "display_data"
    }
   ],
   "execution_count": 1007
  },
  {
   "metadata": {
    "ExecuteTime": {
     "end_time": "2025-05-06T12:46:12.718712Z",
     "start_time": "2025-05-06T12:46:12.709074Z"
    }
   },
   "cell_type": "code",
   "source": "housing.info()\n",
   "id": "6d4ce94daa67f88f",
   "outputs": [
    {
     "name": "stdout",
     "output_type": "stream",
     "text": [
      "<class 'pandas.core.frame.DataFrame'>\n",
      "Index: 15017 entries, 10049 to 28704\n",
      "Data columns (total 21 columns):\n",
      " #   Column         Non-Null Count  Dtype  \n",
      "---  ------         --------------  -----  \n",
      " 0   Suburb         15017 non-null  object \n",
      " 1   Address        15017 non-null  object \n",
      " 2   Rooms          15017 non-null  int64  \n",
      " 3   Type           15017 non-null  object \n",
      " 4   Price          15017 non-null  float64\n",
      " 5   Method         15017 non-null  object \n",
      " 6   SellerG        15017 non-null  object \n",
      " 7   Date           15017 non-null  object \n",
      " 8   Distance       15017 non-null  float64\n",
      " 9   Postcode       15017 non-null  float64\n",
      " 10  Bedroom2       15017 non-null  float64\n",
      " 11  Bathroom       15017 non-null  float64\n",
      " 12  Car            14725 non-null  float64\n",
      " 13  Landsize       13000 non-null  float64\n",
      " 14  BuildingArea   7576 non-null   float64\n",
      " 15  YearBuilt      8645 non-null   float64\n",
      " 16  CouncilArea    15017 non-null  object \n",
      " 17  Latitude       15000 non-null  float64\n",
      " 18  Longitude      15000 non-null  float64\n",
      " 19  Regionname     15017 non-null  object \n",
      " 20  Propertycount  15017 non-null  float64\n",
      "dtypes: float64(12), int64(1), object(8)\n",
      "memory usage: 2.5+ MB\n"
     ]
    }
   ],
   "execution_count": 1008
  },
  {
   "metadata": {
    "ExecuteTime": {
     "end_time": "2025-05-06T12:46:12.895460Z",
     "start_time": "2025-05-06T12:46:12.886888Z"
    }
   },
   "cell_type": "code",
   "source": [
    "from sklearn.impute import SimpleImputer\n",
    "from sklearn.compose import ColumnTransformer\n",
    "from sklearn.pipeline import Pipeline\n",
    "\n",
    "# Удаляем колонки с большим количеством пропусков\n",
    "drop_cols = [\"BuildingArea\", \"YearBuilt\", \"Postcode\", \"Latitude\", \"Longitude\", \"Address\"]\n",
    "housing_clean = housing.drop(columns=drop_cols)\n",
    "\n",
    "# Удаляем строки с пропусками в важных признаках\n",
    "important_dropna_cols = [\"Distance\", \"CouncilArea\", \"Regionname\"]\n",
    "housing_clean = housing_clean.dropna(subset=important_dropna_cols)\n",
    "\n",
    "# Колонки для импутации\n",
    "median_impute_cols = [\"Bedroom2\", \"Bathroom\", \"Car\", \"Landsize\"]\n",
    "mean_impute_cols = [\"Propertycount\"]"
   ],
   "id": "73aa4bcce2ac3690",
   "outputs": [],
   "execution_count": 1009
  },
  {
   "metadata": {
    "ExecuteTime": {
     "end_time": "2025-05-06T12:46:13.060120Z",
     "start_time": "2025-05-06T12:46:12.996031Z"
    }
   },
   "cell_type": "code",
   "source": [
    "import seaborn as sns\n",
    "import matplotlib.pyplot as plt\n",
    "\n",
    "sns.boxplot(data=housing_clean, y='Price')\n",
    "plt.show()"
   ],
   "id": "b2652f3044a3636d",
   "outputs": [
    {
     "data": {
      "text/plain": [
       "<Figure size 640x480 with 1 Axes>"
      ],
      "image/png": "[encoded data removed]"
     },
     "metadata": {},
     "output_type": "display_data"
    }
   ],
   "execution_count": 1010
  },
  {
   "metadata": {
    "ExecuteTime": {
     "end_time": "2025-05-06T12:46:13.163423Z",
     "start_time": "2025-05-06T12:46:13.161732Z"
    }
   },
   "cell_type": "code",
   "source": "\n",
   "id": "ca4e6d98dc3e6562",
   "outputs": [],
   "execution_count": 1010
  },
  {
   "metadata": {
    "ExecuteTime": {
     "end_time": "2025-05-06T12:46:13.255962Z",
     "start_time": "2025-05-06T12:46:13.252414Z"
    }
   },
   "cell_type": "code",
   "source": [
    "# cols = ['Price', 'Rooms', 'Bedroom2', 'Bathroom']\n",
    "# housing_clean = remove_outliers_iqr_all(housing_clean, cols)\n",
    "# test_set = remove_outliers_iqr_all(test_set, cols)\n",
    "\n",
    "# housing_clean['Price'] = np.log1p(housing_clean['Price'])"
   ],
   "id": "a45994b281fbb29e",
   "outputs": [],
   "execution_count": 1011
  },
  {
   "metadata": {
    "ExecuteTime": {
     "end_time": "2025-05-06T12:46:13.370016Z",
     "start_time": "2025-05-06T12:46:13.363379Z"
    }
   },
   "cell_type": "code",
   "source": [
    "from sklearn.preprocessing import OneHotEncoder\n",
    "\n",
    "# Создаём имьютеры\n",
    "median_imputer = SimpleImputer(strategy=\"median\")\n",
    "mean_imputer = SimpleImputer(strategy=\"mean\")\n",
    "\n",
    "# Объединяем их в ColumnTransformer\n",
    "imputer_transform = ColumnTransformer(transformers=[\n",
    "    (\"median_imputer\", median_imputer, median_impute_cols),\n",
    "    (\"mean_imputer\", mean_imputer, mean_impute_cols)\n",
    "],\n",
    "    remainder=\"passthrough\",\n",
    "    verbose_feature_names_out=False)  # остальные признаки остаются как есть\n",
    "\n",
    "numerical_cols = housing_clean.select_dtypes(include=['int64', 'float64']).columns.drop('Price').tolist()\n",
    "categorical_cols = housing_clean.drop(columns=numerical_cols + ['Price']).columns.tolist()\n",
    "\n",
    "print(\"Numerical columns:\", numerical_cols)\n",
    "print(\"Categorical columns:\", categorical_cols)\n",
    "\n",
    "numeric_transformer = Pipeline(steps=[\n",
    "    ('imputer_transform', imputer_transform),  # замена NaN на среднее\n",
    "    ('scaler', StandardScaler())\n",
    "])\n",
    "\n",
    "categorical_transformer = Pipeline(steps=[\n",
    "    ('encoder', OneHotEncoder(handle_unknown='ignore'\n",
    "                              # , sparse_output=False\n",
    "))\n",
    "])\n",
    "\n",
    "preprocessor = ColumnTransformer(\n",
    "    transformers=[\n",
    "        ('num', numeric_transformer, numerical_cols),\n",
    "        ('cat', categorical_transformer, categorical_cols)\n",
    "    ]\n",
    ")\n",
    "\n",
    "pipeline = Pipeline(steps=[\n",
    "    ('preprocessor', preprocessor),\n",
    "])\n"
   ],
   "id": "1f3213311b30d868",
   "outputs": [
    {
     "name": "stdout",
     "output_type": "stream",
     "text": [
      "Numerical columns: ['Rooms', 'Distance', 'Bedroom2', 'Bathroom', 'Car', 'Landsize', 'Propertycount']\n",
      "Categorical columns: ['Suburb', 'Type', 'Method', 'SellerG', 'Date', 'CouncilArea', 'Regionname']\n"
     ]
    }
   ],
   "execution_count": 1012
  },
  {
   "metadata": {
    "ExecuteTime": {
     "end_time": "2025-05-06T12:46:13.505621Z",
     "start_time": "2025-05-06T12:46:13.466754Z"
    }
   },
   "cell_type": "code",
   "source": [
    "X_train = housing_clean.drop(columns=[\"Price\"])\n",
    "Y_train = housing_clean[\"Price\"]\n",
    "\n",
    "# from sklearn import set_config\n",
    "# set_config(transform_output=\"pandas\")\n",
    "\n",
    "X_train_transformed = pipeline.fit_transform(X_train)\n",
    "\n",
    "# X_prepared_df = pd.DataFrame(X_prepared)\n",
    "# X_prepared_df.info()"
   ],
   "id": "fe7517d990ea45d5",
   "outputs": [],
   "execution_count": 1013
  },
  {
   "metadata": {
    "ExecuteTime": {
     "end_time": "2025-05-06T12:46:13.611800Z",
     "start_time": "2025-05-06T12:46:13.592992Z"
    }
   },
   "cell_type": "code",
   "source": [
    "from sklearn.metrics import mean_absolute_error, mean_squared_error, r2_score\n",
    "from sklearn.linear_model import LinearRegression\n",
    "\n",
    "test_set_clean = test_set.drop(columns=drop_cols)\n",
    "test_set_clean = test_set_clean.dropna(subset=important_dropna_cols)\n",
    "\n",
    "\n",
    "X_test = test_set_clean.drop(columns=[\"Price\"])\n",
    "Y_test = test_set_clean[\"Price\"]\n",
    "print(Y_test[:20])\n",
    "\n",
    "X_test_transformed = pipeline.transform(test_set_clean)\n",
    "\n",
    "import seaborn as sns\n",
    "import matplotlib.pyplot as plt"
   ],
   "id": "5f62dd453e1ecc8",
   "outputs": [
    {
     "name": "stdout",
     "output_type": "stream",
     "text": [
      "20494    14.285515\n",
      "22949    14.319312\n",
      "3560     14.046623\n",
      "4993     13.369225\n",
      "33678    13.761583\n",
      "34215    13.279369\n",
      "15057    14.081714\n",
      "33796    13.451669\n",
      "22774    12.847929\n",
      "15521    14.425277\n",
      "12394    13.629182\n",
      "24488    14.253766\n",
      "20703    14.187075\n",
      "13246    13.235694\n",
      "29441    13.996165\n",
      "1667     13.362955\n",
      "6711     13.384729\n",
      "21804    13.592368\n",
      "19373    13.811504\n",
      "25510    14.285515\n",
      "Name: Price, dtype: float64\n"
     ]
    }
   ],
   "execution_count": 1014
  },
  {
   "metadata": {
    "ExecuteTime": {
     "end_time": "2025-05-06T12:46:13.690496Z",
     "start_time": "2025-05-06T12:46:13.687132Z"
    }
   },
   "cell_type": "code",
   "source": [
    "# Создаем модель линейной регрессии\n",
    "model = LinearRegression()"
   ],
   "id": "8ff39bf11726ebf0",
   "outputs": [],
   "execution_count": 1015
  },
  {
   "metadata": {
    "ExecuteTime": {
     "end_time": "2025-05-06T12:46:13.924602Z",
     "start_time": "2025-05-06T12:46:13.774419Z"
    }
   },
   "cell_type": "code",
   "source": [
    "# Обучаем модель на обучающих данных\n",
    "model.fit(X_train_transformed, Y_train)\n"
   ],
   "id": "78df86bb2f4d2e28",
   "outputs": [
    {
     "data": {
      "text/plain": [
       "LinearRegression()"
      ],
      "text/html": [
       "<style>#sk-container-id-45 {\n",
       "  /* Definition of color scheme common for light and dark mode */\n",
       "  --sklearn-color-text: #000;\n",
       "  --sklearn-color-text-muted: #666;\n",
       "  --sklearn-color-line: gray;\n",
       "  /* Definition of color scheme for unfitted estimators */\n",
       "  --sklearn-color-unfitted-level-0: #fff5e6;\n",
       "  --sklearn-color-unfitted-level-1: #f6e4d2;\n",
       "  --sklearn-color-unfitted-level-2: #ffe0b3;\n",
       "  --sklearn-color-unfitted-level-3: chocolate;\n",
       "  /* Definition of color scheme for fitted estimators */\n",
       "  --sklearn-color-fitted-level-0: #f0f8ff;\n",
       "  --sklearn-color-fitted-level-1: #d4ebff;\n",
       "  --sklearn-color-fitted-level-2: #b3dbfd;\n",
       "  --sklearn-color-fitted-level-3: cornflowerblue;\n",
       "\n",
       "  /* Specific color for light theme */\n",
       "  --sklearn-color-text-on-default-background: var(--sg-text-color, var(--theme-code-foreground, var(--jp-content-font-color1, black)));\n",
       "  --sklearn-color-background: var(--sg-background-color, var(--theme-background, var(--jp-layout-color0, white)));\n",
       "  --sklearn-color-border-box: var(--sg-text-color, var(--theme-code-foreground, var(--jp-content-font-color1, black)));\n",
       "  --sklearn-color-icon: #696969;\n",
       "\n",
       "  @media (prefers-color-scheme: dark) {\n",
       "    /* Redefinition of color scheme for dark theme */\n",
       "    --sklearn-color-text-on-default-background: var(--sg-text-color, var(--theme-code-foreground, var(--jp-content-font-color1, white)));\n",
       "    --sklearn-color-background: var(--sg-background-color, var(--theme-background, var(--jp-layout-color0, #111)));\n",
       "    --sklearn-color-border-box: var(--sg-text-color, var(--theme-code-foreground, var(--jp-content-font-color1, white)));\n",
       "    --sklearn-color-icon: #878787;\n",
       "  }\n",
       "}\n",
       "\n",
       "#sk-container-id-45 {\n",
       "  color: var(--sklearn-color-text);\n",
       "}\n",
       "\n",
       "#sk-container-id-45 pre {\n",
       "  padding: 0;\n",
       "}\n",
       "\n",
       "#sk-container-id-45 input.sk-hidden--visually {\n",
       "  border: 0;\n",
       "  clip: rect(1px 1px 1px 1px);\n",
       "  clip: rect(1px, 1px, 1px, 1px);\n",
       "  height: 1px;\n",
       "  margin: -1px;\n",
       "  overflow: hidden;\n",
       "  padding: 0;\n",
       "  position: absolute;\n",
       "  width: 1px;\n",
       "}\n",
       "\n",
       "#sk-container-id-45 div.sk-dashed-wrapped {\n",
       "  border: 1px dashed var(--sklearn-color-line);\n",
       "  margin: 0 0.4em 0.5em 0.4em;\n",
       "  box-sizing: border-box;\n",
       "  padding-bottom: 0.4em;\n",
       "  background-color: var(--sklearn-color-background);\n",
       "}\n",
       "\n",
       "#sk-container-id-45 div.sk-container {\n",
       "  /* jupyter's `normalize.less` sets `[hidden] { display: none; }`\n",
       "     but bootstrap.min.css set `[hidden] { display: none !important; }`\n",
       "     so we also need the `!important` here to be able to override the\n",
       "     default hidden behavior on the sphinx rendered scikit-learn.org.\n",
       "     See: https://github.com/scikit-learn/scikit-learn/issues/21755 */\n",
       "  display: inline-block !important;\n",
       "  position: relative;\n",
       "}\n",
       "\n",
       "#sk-container-id-45 div.sk-text-repr-fallback {\n",
       "  display: none;\n",
       "}\n",
       "\n",
       "div.sk-parallel-item,\n",
       "div.sk-serial,\n",
       "div.sk-item {\n",
       "  /* draw centered vertical line to link estimators */\n",
       "  background-image: linear-gradient(var(--sklearn-color-text-on-default-background), var(--sklearn-color-text-on-default-background));\n",
       "  background-size: 2px 100%;\n",
       "  background-repeat: no-repeat;\n",
       "  background-position: center center;\n",
       "}\n",
       "\n",
       "/* Parallel-specific style estimator block */\n",
       "\n",
       "#sk-container-id-45 div.sk-parallel-item::after {\n",
       "  content: \"\";\n",
       "  width: 100%;\n",
       "  border-bottom: 2px solid var(--sklearn-color-text-on-default-background);\n",
       "  flex-grow: 1;\n",
       "}\n",
       "\n",
       "#sk-container-id-45 div.sk-parallel {\n",
       "  display: flex;\n",
       "  align-items: stretch;\n",
       "  justify-content: center;\n",
       "  background-color: var(--sklearn-color-background);\n",
       "  position: relative;\n",
       "}\n",
       "\n",
       "#sk-container-id-45 div.sk-parallel-item {\n",
       "  display: flex;\n",
       "  flex-direction: column;\n",
       "}\n",
       "\n",
       "#sk-container-id-45 div.sk-parallel-item:first-child::after {\n",
       "  align-self: flex-end;\n",
       "  width: 50%;\n",
       "}\n",
       "\n",
       "#sk-container-id-45 div.sk-parallel-item:last-child::after {\n",
       "  align-self: flex-start;\n",
       "  width: 50%;\n",
       "}\n",
       "\n",
       "#sk-container-id-45 div.sk-parallel-item:only-child::after {\n",
       "  width: 0;\n",
       "}\n",
       "\n",
       "/* Serial-specific style estimator block */\n",
       "\n",
       "#sk-container-id-45 div.sk-serial {\n",
       "  display: flex;\n",
       "  flex-direction: column;\n",
       "  align-items: center;\n",
       "  background-color: var(--sklearn-color-background);\n",
       "  padding-right: 1em;\n",
       "  padding-left: 1em;\n",
       "}\n",
       "\n",
       "\n",
       "/* Toggleable style: style used for estimator/Pipeline/ColumnTransformer box that is\n",
       "clickable and can be expanded/collapsed.\n",
       "- Pipeline and ColumnTransformer use this feature and define the default style\n",
       "- Estimators will overwrite some part of the style using the `sk-estimator` class\n",
       "*/\n",
       "\n",
       "/* Pipeline and ColumnTransformer style (default) */\n",
       "\n",
       "#sk-container-id-45 div.sk-toggleable {\n",
       "  /* Default theme specific background. It is overwritten whether we have a\n",
       "  specific estimator or a Pipeline/ColumnTransformer */\n",
       "  background-color: var(--sklearn-color-background);\n",
       "}\n",
       "\n",
       "/* Toggleable label */\n",
       "#sk-container-id-45 label.sk-toggleable__label {\n",
       "  cursor: pointer;\n",
       "  display: flex;\n",
       "  width: 100%;\n",
       "  margin-bottom: 0;\n",
       "  padding: 0.5em;\n",
       "  box-sizing: border-box;\n",
       "  text-align: center;\n",
       "  align-items: start;\n",
       "  justify-content: space-between;\n",
       "  gap: 0.5em;\n",
       "}\n",
       "\n",
       "#sk-container-id-45 label.sk-toggleable__label .caption {\n",
       "  font-size: 0.6rem;\n",
       "  font-weight: lighter;\n",
       "  color: var(--sklearn-color-text-muted);\n",
       "}\n",
       "\n",
       "#sk-container-id-45 label.sk-toggleable__label-arrow:before {\n",
       "  /* Arrow on the left of the label */\n",
       "  content: \"▸\";\n",
       "  float: left;\n",
       "  margin-right: 0.25em;\n",
       "  color: var(--sklearn-color-icon);\n",
       "}\n",
       "\n",
       "#sk-container-id-45 label.sk-toggleable__label-arrow:hover:before {\n",
       "  color: var(--sklearn-color-text);\n",
       "}\n",
       "\n",
       "/* Toggleable content - dropdown */\n",
       "\n",
       "#sk-container-id-45 div.sk-toggleable__content {\n",
       "  max-height: 0;\n",
       "  max-width: 0;\n",
       "  overflow: hidden;\n",
       "  text-align: left;\n",
       "  /* unfitted */\n",
       "  background-color: var(--sklearn-color-unfitted-level-0);\n",
       "}\n",
       "\n",
       "#sk-container-id-45 div.sk-toggleable__content.fitted {\n",
       "  /* fitted */\n",
       "  background-color: var(--sklearn-color-fitted-level-0);\n",
       "}\n",
       "\n",
       "#sk-container-id-45 div.sk-toggleable__content pre {\n",
       "  margin: 0.2em;\n",
       "  border-radius: 0.25em;\n",
       "  color: var(--sklearn-color-text);\n",
       "  /* unfitted */\n",
       "  background-color: var(--sklearn-color-unfitted-level-0);\n",
       "}\n",
       "\n",
       "#sk-container-id-45 div.sk-toggleable__content.fitted pre {\n",
       "  /* unfitted */\n",
       "  background-color: var(--sklearn-color-fitted-level-0);\n",
       "}\n",
       "\n",
       "#sk-container-id-45 input.sk-toggleable__control:checked~div.sk-toggleable__content {\n",
       "  /* Expand drop-down */\n",
       "  max-height: 200px;\n",
       "  max-width: 100%;\n",
       "  overflow: auto;\n",
       "}\n",
       "\n",
       "#sk-container-id-45 input.sk-toggleable__control:checked~label.sk-toggleable__label-arrow:before {\n",
       "  content: \"▾\";\n",
       "}\n",
       "\n",
       "/* Pipeline/ColumnTransformer-specific style */\n",
       "\n",
       "#sk-container-id-45 div.sk-label input.sk-toggleable__control:checked~label.sk-toggleable__label {\n",
       "  color: var(--sklearn-color-text);\n",
       "  background-color: var(--sklearn-color-unfitted-level-2);\n",
       "}\n",
       "\n",
       "#sk-container-id-45 div.sk-label.fitted input.sk-toggleable__control:checked~label.sk-toggleable__label {\n",
       "  background-color: var(--sklearn-color-fitted-level-2);\n",
       "}\n",
       "\n",
       "/* Estimator-specific style */\n",
       "\n",
       "/* Colorize estimator box */\n",
       "#sk-container-id-45 div.sk-estimator input.sk-toggleable__control:checked~label.sk-toggleable__label {\n",
       "  /* unfitted */\n",
       "  background-color: var(--sklearn-color-unfitted-level-2);\n",
       "}\n",
       "\n",
       "#sk-container-id-45 div.sk-estimator.fitted input.sk-toggleable__control:checked~label.sk-toggleable__label {\n",
       "  /* fitted */\n",
       "  background-color: var(--sklearn-color-fitted-level-2);\n",
       "}\n",
       "\n",
       "#sk-container-id-45 div.sk-label label.sk-toggleable__label,\n",
       "#sk-container-id-45 div.sk-label label {\n",
       "  /* The background is the default theme color */\n",
       "  color: var(--sklearn-color-text-on-default-background);\n",
       "}\n",
       "\n",
       "/* On hover, darken the color of the background */\n",
       "#sk-container-id-45 div.sk-label:hover label.sk-toggleable__label {\n",
       "  color: var(--sklearn-color-text);\n",
       "  background-color: var(--sklearn-color-unfitted-level-2);\n",
       "}\n",
       "\n",
       "/* Label box, darken color on hover, fitted */\n",
       "#sk-container-id-45 div.sk-label.fitted:hover label.sk-toggleable__label.fitted {\n",
       "  color: var(--sklearn-color-text);\n",
       "  background-color: var(--sklearn-color-fitted-level-2);\n",
       "}\n",
       "\n",
       "/* Estimator label */\n",
       "\n",
       "#sk-container-id-45 div.sk-label label {\n",
       "  font-family: monospace;\n",
       "  font-weight: bold;\n",
       "  display: inline-block;\n",
       "  line-height: 1.2em;\n",
       "}\n",
       "\n",
       "#sk-container-id-45 div.sk-label-container {\n",
       "  text-align: center;\n",
       "}\n",
       "\n",
       "/* Estimator-specific */\n",
       "#sk-container-id-45 div.sk-estimator {\n",
       "  font-family: monospace;\n",
       "  border: 1px dotted var(--sklearn-color-border-box);\n",
       "  border-radius: 0.25em;\n",
       "  box-sizing: border-box;\n",
       "  margin-bottom: 0.5em;\n",
       "  /* unfitted */\n",
       "  background-color: var(--sklearn-color-unfitted-level-0);\n",
       "}\n",
       "\n",
       "#sk-container-id-45 div.sk-estimator.fitted {\n",
       "  /* fitted */\n",
       "  background-color: var(--sklearn-color-fitted-level-0);\n",
       "}\n",
       "\n",
       "/* on hover */\n",
       "#sk-container-id-45 div.sk-estimator:hover {\n",
       "  /* unfitted */\n",
       "  background-color: var(--sklearn-color-unfitted-level-2);\n",
       "}\n",
       "\n",
       "#sk-container-id-45 div.sk-estimator.fitted:hover {\n",
       "  /* fitted */\n",
       "  background-color: var(--sklearn-color-fitted-level-2);\n",
       "}\n",
       "\n",
       "/* Specification for estimator info (e.g. \"i\" and \"?\") */\n",
       "\n",
       "/* Common style for \"i\" and \"?\" */\n",
       "\n",
       ".sk-estimator-doc-link,\n",
       "a:link.sk-estimator-doc-link,\n",
       "a:visited.sk-estimator-doc-link {\n",
       "  float: right;\n",
       "  font-size: smaller;\n",
       "  line-height: 1em;\n",
       "  font-family: monospace;\n",
       "  background-color: var(--sklearn-color-background);\n",
       "  border-radius: 1em;\n",
       "  height: 1em;\n",
       "  width: 1em;\n",
       "  text-decoration: none !important;\n",
       "  margin-left: 0.5em;\n",
       "  text-align: center;\n",
       "  /* unfitted */\n",
       "  border: var(--sklearn-color-unfitted-level-1) 1pt solid;\n",
       "  color: var(--sklearn-color-unfitted-level-1);\n",
       "}\n",
       "\n",
       ".sk-estimator-doc-link.fitted,\n",
       "a:link.sk-estimator-doc-link.fitted,\n",
       "a:visited.sk-estimator-doc-link.fitted {\n",
       "  /* fitted */\n",
       "  border: var(--sklearn-color-fitted-level-1) 1pt solid;\n",
       "  color: var(--sklearn-color-fitted-level-1);\n",
       "}\n",
       "\n",
       "/* On hover */\n",
       "div.sk-estimator:hover .sk-estimator-doc-link:hover,\n",
       ".sk-estimator-doc-link:hover,\n",
       "div.sk-label-container:hover .sk-estimator-doc-link:hover,\n",
       ".sk-estimator-doc-link:hover {\n",
       "  /* unfitted */\n",
       "  background-color: var(--sklearn-color-unfitted-level-3);\n",
       "  color: var(--sklearn-color-background);\n",
       "  text-decoration: none;\n",
       "}\n",
       "\n",
       "div.sk-estimator.fitted:hover .sk-estimator-doc-link.fitted:hover,\n",
       ".sk-estimator-doc-link.fitted:hover,\n",
       "div.sk-label-container:hover .sk-estimator-doc-link.fitted:hover,\n",
       ".sk-estimator-doc-link.fitted:hover {\n",
       "  /* fitted */\n",
       "  background-color: var(--sklearn-color-fitted-level-3);\n",
       "  color: var(--sklearn-color-background);\n",
       "  text-decoration: none;\n",
       "}\n",
       "\n",
       "/* Span, style for the box shown on hovering the info icon */\n",
       ".sk-estimator-doc-link span {\n",
       "  display: none;\n",
       "  z-index: 9999;\n",
       "  position: relative;\n",
       "  font-weight: normal;\n",
       "  right: .2ex;\n",
       "  padding: .5ex;\n",
       "  margin: .5ex;\n",
       "  width: min-content;\n",
       "  min-width: 20ex;\n",
       "  max-width: 50ex;\n",
       "  color: var(--sklearn-color-text);\n",
       "  box-shadow: 2pt 2pt 4pt #999;\n",
       "  /* unfitted */\n",
       "  background: var(--sklearn-color-unfitted-level-0);\n",
       "  border: .5pt solid var(--sklearn-color-unfitted-level-3);\n",
       "}\n",
       "\n",
       ".sk-estimator-doc-link.fitted span {\n",
       "  /* fitted */\n",
       "  background: var(--sklearn-color-fitted-level-0);\n",
       "  border: var(--sklearn-color-fitted-level-3);\n",
       "}\n",
       "\n",
       ".sk-estimator-doc-link:hover span {\n",
       "  display: block;\n",
       "}\n",
       "\n",
       "/* \"?\"-specific style due to the `<a>` HTML tag */\n",
       "\n",
       "#sk-container-id-45 a.estimator_doc_link {\n",
       "  float: right;\n",
       "  font-size: 1rem;\n",
       "  line-height: 1em;\n",
       "  font-family: monospace;\n",
       "  background-color: var(--sklearn-color-background);\n",
       "  border-radius: 1rem;\n",
       "  height: 1rem;\n",
       "  width: 1rem;\n",
       "  text-decoration: none;\n",
       "  /* unfitted */\n",
       "  color: var(--sklearn-color-unfitted-level-1);\n",
       "  border: var(--sklearn-color-unfitted-level-1) 1pt solid;\n",
       "}\n",
       "\n",
       "#sk-container-id-45 a.estimator_doc_link.fitted {\n",
       "  /* fitted */\n",
       "  border: var(--sklearn-color-fitted-level-1) 1pt solid;\n",
       "  color: var(--sklearn-color-fitted-level-1);\n",
       "}\n",
       "\n",
       "/* On hover */\n",
       "#sk-container-id-45 a.estimator_doc_link:hover {\n",
       "  /* unfitted */\n",
       "  background-color: var(--sklearn-color-unfitted-level-3);\n",
       "  color: var(--sklearn-color-background);\n",
       "  text-decoration: none;\n",
       "}\n",
       "\n",
       "#sk-container-id-45 a.estimator_doc_link.fitted:hover {\n",
       "  /* fitted */\n",
       "  background-color: var(--sklearn-color-fitted-level-3);\n",
       "}\n",
       "</style><div id=\"sk-container-id-45\" class=\"sk-top-container\"><div class=\"sk-text-repr-fallback\"><pre>LinearRegression()</pre><b>In a Jupyter environment, please rerun this cell to show the HTML representation or trust the notebook. <br />On GitHub, the HTML representation is unable to render, please try loading this page with nbviewer.org.</b></div><div class=\"sk-container\" hidden><div class=\"sk-item\"><div class=\"sk-estimator fitted sk-toggleable\"><input class=\"sk-toggleable__control sk-hidden--visually\" id=\"sk-estimator-id-45\" type=\"checkbox\" checked><label for=\"sk-estimator-id-45\" class=\"sk-toggleable__label fitted sk-toggleable__label-arrow\"><div><div>LinearRegression</div></div><div><a class=\"sk-estimator-doc-link fitted\" rel=\"noreferrer\" target=\"_blank\" href=\"https://scikit-learn.org/1.6/modules/generated/sklearn.linear_model.LinearRegression.html\">?<span>Documentation for LinearRegression</span></a><span class=\"sk-estimator-doc-link fitted\">i<span>Fitted</span></span></div></label><div class=\"sk-toggleable__content fitted\"><pre>LinearRegression()</pre></div> </div></div></div></div>"
      ]
     },
     "execution_count": 1016,
     "metadata": {},
     "output_type": "execute_result"
    }
   ],
   "execution_count": 1016
  },
  {
   "metadata": {
    "ExecuteTime": {
     "end_time": "2025-05-06T12:46:14.028849Z",
     "start_time": "2025-05-06T12:46:14.024466Z"
    }
   },
   "cell_type": "code",
   "source": [
    "y_pred_log = model.predict(X_test_transformed)\n",
    "\n",
    "# Затем используем его\n",
    "print(y_pred_log[:20])\n",
    "print(y_pred_log[:20])\n",
    "\n",
    "y_pred = np.expm1(y_pred_log)\n",
    "y_true = np.expm1(Y_test)\n",
    "\n",
    "# y_pred = y_pred_log\n",
    "# y_true = Y_test\n"
   ],
   "id": "782623fb64c70a99",
   "outputs": [
    {
     "name": "stdout",
     "output_type": "stream",
     "text": [
      "[14.293184   14.26596681 13.88082094 13.22020594 13.66829326 13.27711358\n",
      " 13.33436994 13.45995602 13.19102013 14.13766579 13.6869265  14.25739123\n",
      " 14.13113201 13.18513503 14.23758675 13.28692516 13.53067232 13.33140986\n",
      " 13.63916189 14.26666719]\n",
      "[14.293184   14.26596681 13.88082094 13.22020594 13.66829326 13.27711358\n",
      " 13.33436994 13.45995602 13.19102013 14.13766579 13.6869265  14.25739123\n",
      " 14.13113201 13.18513503 14.23758675 13.28692516 13.53067232 13.33140986\n",
      " 13.63916189 14.26666719]\n"
     ]
    }
   ],
   "execution_count": 1017
  },
  {
   "metadata": {
    "ExecuteTime": {
     "end_time": "2025-05-06T12:46:14.130037Z",
     "start_time": "2025-05-06T12:46:14.124611Z"
    }
   },
   "cell_type": "code",
   "source": [
    "# Оценка ошибки модели\n",
    "\n",
    "\n",
    "mae = mean_absolute_error(y_true, y_pred)\n",
    "mse = mean_squared_error(y_true, y_pred)\n",
    "rmse = np.sqrt(mse)\n",
    "r2 = r2_score(y_true, y_pred)\n",
    "\n",
    "# Выводим результаты\n",
    "print(f\"Mean Absolute Error (MAE): {mae}\")\n",
    "print(f\"Mean Squared Error (MSE): {mse}\")\n",
    "print(f\"Root Mean Squared Error (RMSE): {rmse}\")\n",
    "print(f\"R²: {r2}\")\n"
   ],
   "id": "a5d345a175e43b51",
   "outputs": [
    {
     "name": "stdout",
     "output_type": "stream",
     "text": [
      "Mean Absolute Error (MAE): 151412.88591564095\n",
      "Mean Squared Error (MSE): 44604949669.47248\n",
      "Root Mean Squared Error (RMSE): 211198.83917643223\n",
      "R²: 0.7571045837665885\n"
     ]
    }
   ],
   "execution_count": 1018
  }
 ],
 "metadata": {
  "kernelspec": {
   "display_name": "Python 3",
   "language": "python",
   "name": "python3"
  },
  "language_info": {
   "codemirror_mode": {
    "name": "ipython",
    "version": 2
   },
   "file_extension": ".py",
   "mimetype": "text/x-python",
   "name": "python",
   "nbconvert_exporter": "python",
   "pygments_lexer": "ipython2",
   "version": "2.7.6"
  }
 },
 "nbformat": 4,
 "nbformat_minor": 5
}
