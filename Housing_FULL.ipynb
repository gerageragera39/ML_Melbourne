{
 "cells": [
  {
   "metadata": {
    "ExecuteTime": {
     "end_time": "2025-05-07T10:51:50.973620Z",
     "start_time": "2025-05-07T10:51:50.969259Z"
    }
   },
   "cell_type": "code",
   "source": [
    "import pandas as pd\n",
    "from IPython.display import display\n",
    "from sklearn.model_selection import train_test_split\n",
    "from sklearn.preprocessing import StandardScaler\n",
    "from sklearn.impute import SimpleImputer\n",
    "from sklearn.compose import ColumnTransformer\n",
    "from sklearn.pipeline import Pipeline\n",
    "import seaborn as sns\n",
    "import matplotlib.pyplot as plt\n",
    "from sklearn.preprocessing import OneHotEncoder\n",
    "from sklearn.metrics import mean_absolute_error, mean_squared_error, r2_score, make_scorer\n",
    "from sklearn.model_selection import KFold, cross_val_score\n",
    "import numpy as np\n",
    "from sklearn.model_selection import RandomizedSearchCV\n",
    "from sklearn.model_selection import GridSearchCV"
   ],
   "id": "cef0c236f0612928",
   "outputs": [],
   "execution_count": 882
  },
  {
   "metadata": {
    "ExecuteTime": {
     "end_time": "2025-05-07T10:51:51.075656Z",
     "start_time": "2025-05-07T10:51:51.071212Z"
    }
   },
   "cell_type": "code",
   "source": [
    "HOUSING_PATH_FULL='C:/Users/samys/PycharmProjects/HousingPrices/data/Melbourne_housing_FULL.csv'\n",
    "\n",
    "def load_housing_data(housing_path=HOUSING_PATH_FULL):\n",
    "    return pd.read_csv(housing_path)"
   ],
   "id": "d04e11585bafd83f",
   "outputs": [],
   "execution_count": 883
  },
  {
   "metadata": {
    "ExecuteTime": {
     "end_time": "2025-05-07T10:51:51.262921Z",
     "start_time": "2025-05-07T10:51:51.176718Z"
    }
   },
   "cell_type": "code",
   "source": [
    "loaded_data = load_housing_data()\n",
    "loaded_data.info()"
   ],
   "id": "4b8c3613abb0a12e",
   "outputs": [
    {
     "name": "stdout",
     "output_type": "stream",
     "text": [
      "<class 'pandas.core.frame.DataFrame'>\n",
      "RangeIndex: 34857 entries, 0 to 34856\n",
      "Data columns (total 21 columns):\n",
      " #   Column         Non-Null Count  Dtype  \n",
      "---  ------         --------------  -----  \n",
      " 0   Suburb         34857 non-null  object \n",
      " 1   Address        34857 non-null  object \n",
      " 2   Rooms          34857 non-null  int64  \n",
      " 3   Type           34857 non-null  object \n",
      " 4   Price          27247 non-null  float64\n",
      " 5   Method         34857 non-null  object \n",
      " 6   SellerG        34857 non-null  object \n",
      " 7   Date           34857 non-null  object \n",
      " 8   Distance       34856 non-null  float64\n",
      " 9   Postcode       34856 non-null  float64\n",
      " 10  Bedroom2       26640 non-null  float64\n",
      " 11  Bathroom       26631 non-null  float64\n",
      " 12  Car            26129 non-null  float64\n",
      " 13  Landsize       23047 non-null  float64\n",
      " 14  BuildingArea   13742 non-null  float64\n",
      " 15  YearBuilt      15551 non-null  float64\n",
      " 16  CouncilArea    34854 non-null  object \n",
      " 17  Lattitude      26881 non-null  float64\n",
      " 18  Longtitude     26881 non-null  float64\n",
      " 19  Regionname     34854 non-null  object \n",
      " 20  Propertycount  34854 non-null  float64\n",
      "dtypes: float64(12), int64(1), object(8)\n",
      "memory usage: 5.6+ MB\n"
     ]
    }
   ],
   "execution_count": 884
  },
  {
   "metadata": {
    "ExecuteTime": {
     "end_time": "2025-05-07T10:51:51.388075Z",
     "start_time": "2025-05-07T10:51:51.365139Z"
    }
   },
   "cell_type": "code",
   "source": [
    "train_val_set = loaded_data.dropna(subset=['Price'])\n",
    "final_test = loaded_data[loaded_data['Price'].isna()]\n",
    "print(f\"Number of rows in train_val_set: {len(train_val_set)}\")\n",
    "print(f\"Number of rows in final_test: {len(final_test)}\")\n",
    "\n",
    "new_column_names = {'Lattitude': 'Latitude', 'Longtitude': 'Longitude'}\n",
    "melb_data = train_val_set.rename(columns=new_column_names)\n",
    "\n",
    "PRICE_MEAN = melb_data['Price'].mean()\n",
    "print(f'PRICE_MEAN = {PRICE_MEAN}'  )\n",
    "PRICE_MEDIAN = melb_data['Price'].median()\n",
    "print(f'PRICE_MEDIAN = {PRICE_MEDIAN}')"
   ],
   "id": "5d67b3b760d2f193",
   "outputs": [
    {
     "name": "stdout",
     "output_type": "stream",
     "text": [
      "Number of rows in train_val_set: 27247\n",
      "Number of rows in final_test: 7610\n",
      "PRICE_MEAN = 1050173.344955408\n",
      "PRICE_MEDIAN = 870000.0\n"
     ]
    }
   ],
   "execution_count": 885
  },
  {
   "metadata": {
    "ExecuteTime": {
     "end_time": "2025-05-07T10:51:51.497335Z",
     "start_time": "2025-05-07T10:51:51.493895Z"
    }
   },
   "cell_type": "code",
   "source": [
    "TRAINING_L_U = []\n",
    "def remove_outliers_iqr_all(df, columns, factor=1.5, IS_TRAIN=False):\n",
    "    df_clean = df.copy()\n",
    "    outlier_mask = pd.Series(False, index=df_clean.index)\n",
    "\n",
    "    for col in columns:\n",
    "        Q1 = df_clean[col].quantile(0.25)\n",
    "        Q3 = df_clean[col].quantile(0.75)\n",
    "        IQR = Q3 - Q1\n",
    "        lower = Q1 - factor * IQR\n",
    "        upper = Q3 + factor * IQR\n",
    "        if IS_TRAIN:\n",
    "            TRAINING_L_U.append([col, lower, upper])\n",
    "        outlier_mask |= (df_clean[col] < lower) | (df_clean[col] > upper)\n",
    "\n",
    "    num_outliers = outlier_mask.sum()\n",
    "    df_clean = df_clean[~outlier_mask]\n",
    "\n",
    "    print(f\"Total number of outliers: {num_outliers}\")\n",
    "    print(f\"Number of rows after removal: {len(df_clean)}\")\n",
    "    return df_clean\n"
   ],
   "id": "72b26031a955477c",
   "outputs": [],
   "execution_count": 886
  },
  {
   "metadata": {
    "ExecuteTime": {
     "end_time": "2025-05-07T10:51:51.622361Z",
     "start_time": "2025-05-07T10:51:51.600145Z"
    }
   },
   "cell_type": "code",
   "source": [
    "cols = [\"Distance\", \"Bedroom2\", \"Bathroom\", \"Car\", \"Landsize\", \"Propertycount\"]\n",
    "melb_data = remove_outliers_iqr_all(melb_data, cols, IS_TRAIN=True)\n",
    "melb_data = remove_outliers_iqr_all(melb_data, ['Price'], factor=1.5)"
   ],
   "id": "b6021bbf0ccffb59",
   "outputs": [
    {
     "name": "stdout",
     "output_type": "stream",
     "text": [
      "Total number of outliers: 3510\n",
      "Number of rows after removal: 23737\n",
      "Total number of outliers: 1026\n",
      "Number of rows after removal: 22711\n"
     ]
    }
   ],
   "execution_count": 887
  },
  {
   "metadata": {
    "ExecuteTime": {
     "end_time": "2025-05-07T10:51:51.737645Z",
     "start_time": "2025-05-07T10:51:51.724030Z"
    }
   },
   "cell_type": "code",
   "source": [
    "train_set, test_set = train_test_split(melb_data, test_size=0.2, random_state=42)\n",
    "train_set.info()"
   ],
   "id": "da9f267dfceddd51",
   "outputs": [
    {
     "name": "stdout",
     "output_type": "stream",
     "text": [
      "<class 'pandas.core.frame.DataFrame'>\n",
      "Index: 18168 entries, 34573 to 23910\n",
      "Data columns (total 21 columns):\n",
      " #   Column         Non-Null Count  Dtype  \n",
      "---  ------         --------------  -----  \n",
      " 0   Suburb         18168 non-null  object \n",
      " 1   Address        18168 non-null  object \n",
      " 2   Rooms          18168 non-null  int64  \n",
      " 3   Type           18168 non-null  object \n",
      " 4   Price          18168 non-null  float64\n",
      " 5   Method         18168 non-null  object \n",
      " 6   SellerG        18168 non-null  object \n",
      " 7   Date           18168 non-null  object \n",
      " 8   Distance       18167 non-null  float64\n",
      " 9   Postcode       18167 non-null  float64\n",
      " 10  Bedroom2       13536 non-null  float64\n",
      " 11  Bathroom       13533 non-null  float64\n",
      " 12  Car            13268 non-null  float64\n",
      " 13  Landsize       11745 non-null  float64\n",
      " 14  BuildingArea   6904 non-null   float64\n",
      " 15  YearBuilt      7898 non-null   float64\n",
      " 16  CouncilArea    18166 non-null  object \n",
      " 17  Latitude       13671 non-null  float64\n",
      " 18  Longitude      13671 non-null  float64\n",
      " 19  Regionname     18166 non-null  object \n",
      " 20  Propertycount  18166 non-null  float64\n",
      "dtypes: float64(12), int64(1), object(8)\n",
      "memory usage: 3.0+ MB\n"
     ]
    }
   ],
   "execution_count": 888
  },
  {
   "metadata": {
    "ExecuteTime": {
     "end_time": "2025-05-07T10:51:51.746098Z",
     "start_time": "2025-05-07T10:51:51.742475Z"
    }
   },
   "cell_type": "code",
   "source": [
    "# train_set = remove_outliers_iqr_all(train_set, cols)\n",
    "\n",
    "\n",
    "train_set['Price'] = np.log1p(train_set['Price'])\n",
    "test_set['Price'] = np.log1p(test_set['Price'])"
   ],
   "id": "f7620264440900be",
   "outputs": [],
   "execution_count": 889
  },
  {
   "metadata": {
    "ExecuteTime": {
     "end_time": "2025-05-07T10:51:51.941685Z",
     "start_time": "2025-05-07T10:51:51.932431Z"
    }
   },
   "cell_type": "code",
   "source": [
    "housing = train_set.copy()\n",
    "numerical_features = train_set.select_dtypes(include=['int64', 'float64']).columns.tolist()\n",
    "categorical_features = train_set.select_dtypes(include=['object']).columns.tolist()\n",
    "\n",
    "print(\"Numerical features:\", numerical_features)\n",
    "print(\"Categorical features:\", categorical_features)"
   ],
   "id": "e644b1100754dce5",
   "outputs": [
    {
     "name": "stdout",
     "output_type": "stream",
     "text": [
      "Numerical features: ['Rooms', 'Price', 'Distance', 'Postcode', 'Bedroom2', 'Bathroom', 'Car', 'Landsize', 'BuildingArea', 'YearBuilt', 'Latitude', 'Longitude', 'Propertycount']\n",
      "Categorical features: ['Suburb', 'Address', 'Type', 'Method', 'SellerG', 'Date', 'CouncilArea', 'Regionname']\n"
     ]
    }
   ],
   "execution_count": 890
  },
  {
   "metadata": {
    "ExecuteTime": {
     "end_time": "2025-05-07T10:51:53.132809Z",
     "start_time": "2025-05-07T10:51:52.042168Z"
    }
   },
   "cell_type": "code",
   "source": [
    "housing_num = housing[numerical_features]\n",
    "housing.hist(bins=50, figsize=(20, 15))"
   ],
   "id": "8f80815d6873a0e7",
   "outputs": [
    {
     "data": {
      "text/plain": [
       "array([[<Axes: title={'center': 'Rooms'}>,\n",
       "        <Axes: title={'center': 'Price'}>,\n",
       "        <Axes: title={'center': 'Distance'}>,\n",
       "        <Axes: title={'center': 'Postcode'}>],\n",
       "       [<Axes: title={'center': 'Bedroom2'}>,\n",
       "        <Axes: title={'center': 'Bathroom'}>,\n",
       "        <Axes: title={'center': 'Car'}>,\n",
       "        <Axes: title={'center': 'Landsize'}>],\n",
       "       [<Axes: title={'center': 'BuildingArea'}>,\n",
       "        <Axes: title={'center': 'YearBuilt'}>,\n",
       "        <Axes: title={'center': 'Latitude'}>,\n",
       "        <Axes: title={'center': 'Longitude'}>],\n",
       "       [<Axes: title={'center': 'Propertycount'}>, <Axes: >, <Axes: >,\n",
       "        <Axes: >]], dtype=object)"
      ]
     },
     "execution_count": 891,
     "metadata": {},
     "output_type": "execute_result"
    },
    {
     "data": {
      "text/plain": [
       "<Figure size 2000x1500 with 16 Axes>"
      ],
      "image/png": "[encoded data removed]"
     },
     "metadata": {},
     "output_type": "display_data"
    }
   ],
   "execution_count": 891
  },
  {
   "metadata": {
    "ExecuteTime": {
     "end_time": "2025-05-07T10:51:53.259324Z",
     "start_time": "2025-05-07T10:51:53.248174Z"
    }
   },
   "cell_type": "code",
   "source": [
    "corr_matrix = housing_num.corr()\n",
    "corr_matrix[\"Price\"].sort_values(ascending=False)"
   ],
   "id": "645b36959e40149b",
   "outputs": [
    {
     "data": {
      "text/plain": [
       "Price            1.000000\n",
       "Rooms            0.522098\n",
       "Bedroom2         0.469870\n",
       "Bathroom         0.336715\n",
       "Landsize         0.316596\n",
       "Longitude        0.273448\n",
       "BuildingArea     0.254918\n",
       "Car              0.219054\n",
       "Postcode         0.188862\n",
       "Propertycount   -0.046118\n",
       "Distance        -0.112466\n",
       "Latitude        -0.254713\n",
       "YearBuilt       -0.373344\n",
       "Name: Price, dtype: float64"
      ]
     },
     "execution_count": 892,
     "metadata": {},
     "output_type": "execute_result"
    }
   ],
   "execution_count": 892
  },
  {
   "metadata": {
    "ExecuteTime": {
     "end_time": "2025-05-07T10:51:53.738891Z",
     "start_time": "2025-05-07T10:51:53.385776Z"
    }
   },
   "cell_type": "code",
   "source": [
    "fig, axes = plt.subplots(1, 3, figsize=(15, 5))\n",
    "\n",
    "# Price vs Rooms\n",
    "sns.boxplot(data=housing, x='Rooms', y='Price', ax=axes[0])\n",
    "axes[0].set_title('Price Distribution by Rooms')\n",
    "axes[0].tick_params(axis='x', rotation=45)\n",
    "\n",
    "# Price vs Bedrooms\n",
    "sns.boxplot(data=housing, x='Bedroom2', y='Price', ax=axes[1])\n",
    "axes[1].set_title('Price Distribution by Bedrooms')\n",
    "axes[1].tick_params(axis='x', rotation=45)\n",
    "\n",
    "# Price vs Bathrooms\n",
    "sns.boxplot(data=housing, x='Bathroom', y='Price', ax=axes[2])\n",
    "axes[2].set_title('Price Distribution by Bathrooms')\n",
    "axes[2].tick_params(axis='x', rotation=45)\n",
    "\n",
    "plt.tight_layout()"
   ],
   "id": "f322490ac16b7b4e",
   "outputs": [
    {
     "data": {
      "text/plain": [
       "<Figure size 1500x500 with 3 Axes>"
      ],
      "image/png": "[encoded data removed]"
     },
     "metadata": {},
     "output_type": "display_data"
    }
   ],
   "execution_count": 893
  },
  {
   "metadata": {
    "ExecuteTime": {
     "end_time": "2025-05-07T10:51:53.862178Z",
     "start_time": "2025-05-07T10:51:53.852339Z"
    }
   },
   "cell_type": "code",
   "source": "housing.info()\n",
   "id": "3a90c38f1a0bec0a",
   "outputs": [
    {
     "name": "stdout",
     "output_type": "stream",
     "text": [
      "<class 'pandas.core.frame.DataFrame'>\n",
      "Index: 18168 entries, 34573 to 23910\n",
      "Data columns (total 21 columns):\n",
      " #   Column         Non-Null Count  Dtype  \n",
      "---  ------         --------------  -----  \n",
      " 0   Suburb         18168 non-null  object \n",
      " 1   Address        18168 non-null  object \n",
      " 2   Rooms          18168 non-null  int64  \n",
      " 3   Type           18168 non-null  object \n",
      " 4   Price          18168 non-null  float64\n",
      " 5   Method         18168 non-null  object \n",
      " 6   SellerG        18168 non-null  object \n",
      " 7   Date           18168 non-null  object \n",
      " 8   Distance       18167 non-null  float64\n",
      " 9   Postcode       18167 non-null  float64\n",
      " 10  Bedroom2       13536 non-null  float64\n",
      " 11  Bathroom       13533 non-null  float64\n",
      " 12  Car            13268 non-null  float64\n",
      " 13  Landsize       11745 non-null  float64\n",
      " 14  BuildingArea   6904 non-null   float64\n",
      " 15  YearBuilt      7898 non-null   float64\n",
      " 16  CouncilArea    18166 non-null  object \n",
      " 17  Latitude       13671 non-null  float64\n",
      " 18  Longitude      13671 non-null  float64\n",
      " 19  Regionname     18166 non-null  object \n",
      " 20  Propertycount  18166 non-null  float64\n",
      "dtypes: float64(12), int64(1), object(8)\n",
      "memory usage: 3.0+ MB\n"
     ]
    }
   ],
   "execution_count": 894
  },
  {
   "metadata": {
    "ExecuteTime": {
     "end_time": "2025-05-07T10:51:54.049162Z",
     "start_time": "2025-05-07T10:51:54.040226Z"
    }
   },
   "cell_type": "code",
   "source": [
    "\n",
    "drop_cols = [\"BuildingArea\", \"YearBuilt\", \"Postcode\", \"Latitude\", \"Longitude\", \"Address\"]\n",
    "housing_clean = housing.drop(columns=drop_cols)\n",
    "\n",
    "important_dropna_cols = [\"Distance\", \"CouncilArea\", \"Regionname\",\"Bedroom2\", \"Bathroom\", \"Car\"]\n",
    "housing_clean = housing_clean.dropna(subset=important_dropna_cols)\n",
    "\n",
    "median_impute_cols = [\"Landsize\"]\n",
    "mean_impute_cols = [\"Propertycount\"]"
   ],
   "id": "b622ab8a1e2a5d2a",
   "outputs": [],
   "execution_count": 895
  },
  {
   "metadata": {
    "ExecuteTime": {
     "end_time": "2025-05-07T10:51:54.200614Z",
     "start_time": "2025-05-07T10:51:54.146035Z"
    }
   },
   "cell_type": "code",
   "source": [
    "\n",
    "sns.boxplot(data=housing_clean, y='Price')\n",
    "plt.show()"
   ],
   "id": "ad377337c56d7572",
   "outputs": [
    {
     "data": {
      "text/plain": [
       "<Figure size 640x480 with 1 Axes>"
      ],
      "image/png": "[encoded data removed]"
     },
     "metadata": {},
     "output_type": "display_data"
    }
   ],
   "execution_count": 896
  },
  {
   "metadata": {
    "ExecuteTime": {
     "end_time": "2025-05-07T10:51:54.303269Z",
     "start_time": "2025-05-07T10:51:54.296742Z"
    }
   },
   "cell_type": "code",
   "source": [
    "\n",
    "median_imputer = SimpleImputer(strategy=\"median\")\n",
    "mean_imputer = SimpleImputer(strategy=\"mean\")\n",
    "\n",
    "imputer_transform = ColumnTransformer(transformers=[\n",
    "    (\"median_imputer\", median_imputer, median_impute_cols),\n",
    "    (\"mean_imputer\", mean_imputer, mean_impute_cols)\n",
    "],\n",
    "    remainder=\"passthrough\",\n",
    "    verbose_feature_names_out=False)\n",
    "\n",
    "numerical_cols = housing_clean.select_dtypes(include=['int64', 'float64']).columns.drop('Price').tolist()\n",
    "categorical_cols = housing_clean.drop(columns=numerical_cols + ['Price']).columns.tolist()\n",
    "\n",
    "print(\"Numerical columns:\", numerical_cols)\n",
    "print(\"Categorical columns:\", categorical_cols)\n",
    "\n",
    "numeric_transformer = Pipeline(steps=[\n",
    "    ('imputer_transform', imputer_transform),\n",
    "    ('scaler', StandardScaler())\n",
    "])\n",
    "\n",
    "categorical_transformer = Pipeline(steps=[\n",
    "    ('encoder', OneHotEncoder(handle_unknown='ignore'))\n",
    "])\n",
    "\n",
    "preprocessor = ColumnTransformer(\n",
    "    transformers=[\n",
    "        ('num', numeric_transformer, numerical_cols),\n",
    "        ('cat', categorical_transformer, categorical_cols)\n",
    "    ]\n",
    ")\n",
    "\n",
    "pipeline = Pipeline(steps=[\n",
    "    ('preprocessor', preprocessor),\n",
    "])\n"
   ],
   "id": "10769a12711be343",
   "outputs": [
    {
     "name": "stdout",
     "output_type": "stream",
     "text": [
      "Numerical columns: ['Rooms', 'Distance', 'Bedroom2', 'Bathroom', 'Car', 'Landsize', 'Propertycount']\n",
      "Categorical columns: ['Suburb', 'Type', 'Method', 'SellerG', 'Date', 'CouncilArea', 'Regionname']\n"
     ]
    }
   ],
   "execution_count": 897
  },
  {
   "metadata": {
    "ExecuteTime": {
     "end_time": "2025-05-07T10:51:54.435882Z",
     "start_time": "2025-05-07T10:51:54.404603Z"
    }
   },
   "cell_type": "code",
   "source": [
    "X_train = housing_clean.drop(columns=[\"Price\"])\n",
    "Y_train = housing_clean[\"Price\"]\n",
    "\n",
    "X_train_transformed = pipeline.fit_transform(X_train)\n"
   ],
   "id": "6e155f989abc206a",
   "outputs": [],
   "execution_count": 898
  },
  {
   "metadata": {
    "ExecuteTime": {
     "end_time": "2025-05-07T10:51:54.544498Z",
     "start_time": "2025-05-07T10:51:54.528150Z"
    }
   },
   "cell_type": "code",
   "source": [
    "\n",
    "test_set_clean = test_set.drop(columns=drop_cols)\n",
    "test_set_clean = test_set_clean.dropna(subset=important_dropna_cols)\n",
    "\n",
    "\n",
    "X_test = test_set_clean.drop(columns=[\"Price\"])\n",
    "Y_test = test_set_clean[\"Price\"]\n",
    "\n",
    "X_test_transformed = pipeline.transform(test_set_clean)\n"
   ],
   "id": "b8f1b7118b52a49e",
   "outputs": [],
   "execution_count": 899
  },
  {
   "metadata": {
    "ExecuteTime": {
     "end_time": "2025-05-07T10:51:54.640736Z",
     "start_time": "2025-05-07T10:51:54.637054Z"
    }
   },
   "cell_type": "code",
   "source": [
    "from sklearn.linear_model import LinearRegression, Ridge, Lasso\n",
    "from sklearn.ensemble import RandomForestRegressor, GradientBoostingRegressor\n",
    "from catboost import CatBoostRegressor\n",
    "from xgboost import XGBRegressor\n",
    "from lightgbm import LGBMRegressor\n",
    "\n"
   ],
   "id": "a7004bf944d0238e",
   "outputs": [],
   "execution_count": 900
  },
  {
   "metadata": {
    "ExecuteTime": {
     "end_time": "2025-05-07T10:51:54.752988Z",
     "start_time": "2025-05-07T10:51:54.749132Z"
    }
   },
   "cell_type": "code",
   "source": [
    "\n",
    "from sklearn.neural_network import MLPRegressor\n",
    "from sklearn.linear_model import HuberRegressor, RANSACRegressor\n",
    "\n",
    "models = {\n",
    "    # 'Linear': LinearRegression(),\n",
    "    # 'Ridge': Ridge(alpha=1.0),\n",
    "    # 'Lasso': Lasso(alpha=0.01),\n",
    "    # 'RandomForest': RandomForestRegressor(n_estimators=100, random_state=42),\n",
    "    # 'GradientBoosting': GradientBoostingRegressor(n_estimators=100, random_state=42),\n",
    "    # 'XGBoost': XGBRegressor(n_estimators=100, random_state=42),\n",
    "    # 'LightGBM': LGBMRegressor(n_estimators=100, random_state=42),\n",
    "    # 'Huber': HuberRegressor(),\n",
    "    # 'RANSAC': RANSACRegressor(random_state=42),\n",
    "    # 'MLP': MLPRegressor(hidden_layer_sizes=(100, 100), max_iter=500, random_state=42),\n",
    "    'CatBoost': CatBoostRegressor(verbose=0, random_state=42)\n",
    "}"
   ],
   "id": "2cb0b55cc9ac0b05",
   "outputs": [],
   "execution_count": 901
  },
  {
   "metadata": {
    "ExecuteTime": {
     "end_time": "2025-05-07T10:51:58.375638Z",
     "start_time": "2025-05-07T10:51:54.847527Z"
    }
   },
   "cell_type": "code",
   "source": [
    "preds = {}\n",
    "\n",
    "for name, model in models.items():\n",
    "    model.fit(X_train_transformed, Y_train)\n",
    "    pred = model.predict(X_test_transformed)\n",
    "    preds[name] = pred\n"
   ],
   "id": "ea82214bbdc35da8",
   "outputs": [],
   "execution_count": 902
  },
  {
   "metadata": {
    "ExecuteTime": {
     "end_time": "2025-05-07T10:51:58.471576Z",
     "start_time": "2025-05-07T10:51:58.467655Z"
    }
   },
   "cell_type": "code",
   "source": [
    "def print_error(name, y_pred_log):\n",
    "    print('---------------------------------------------------------\\n')\n",
    "    print(f'Model: {name}')\n",
    "    y_pred = np.expm1(y_pred_log)\n",
    "    y_true = np.expm1(Y_test)\n",
    "    mae = mean_absolute_error(y_true, y_pred)\n",
    "    mse = mean_squared_error(y_true, y_pred)\n",
    "    rmse = np.sqrt(mse)\n",
    "    r2 = r2_score(y_true, y_pred)\n",
    "\n",
    "    # Выводим результаты\n",
    "    print(f\"Mean Absolute Error (MAE): {mae}\")\n",
    "    print(f\"Mean Squared Error (MSE): {mse}\")\n",
    "    print(f\"Root Mean Squared Error (RMSE): {rmse}\")\n",
    "    print(f\"R² Score: {r2 * 100:.2f}%\")\n",
    "    print(f\"Predicted/Price_MEAN Error: {(mae / PRICE_MEAN * 100):.2f} %\")\n",
    "    print(f\"Predicted/Price_MEADIAN: {(mae / PRICE_MEDIAN * 100):.2f} %\")"
   ],
   "id": "772d58ae01f1f323",
   "outputs": [],
   "execution_count": 903
  },
  {
   "metadata": {
    "ExecuteTime": {
     "end_time": "2025-05-07T10:51:58.570512Z",
     "start_time": "2025-05-07T10:51:58.565824Z"
    }
   },
   "cell_type": "code",
   "source": [
    "for name, pred in preds.items():\n",
    "    print_error(name, pred)"
   ],
   "id": "cc1780d4bd5f395d",
   "outputs": [
    {
     "name": "stdout",
     "output_type": "stream",
     "text": [
      "---------------------------------------------------------\n",
      "\n",
      "Model: CatBoost\n",
      "Mean Absolute Error (MAE): 126916.00300108448\n",
      "Mean Squared Error (MSE): 32280523952.04238\n",
      "Root Mean Squared Error (RMSE): 179667.81557096523\n",
      "R² Score: 82.76%\n",
      "Predicted/Price_MEAN Error: 12.09 %\n",
      "Predicted/Price_MEADIAN: 14.59 %\n"
     ]
    }
   ],
   "execution_count": 904
  },
  {
   "metadata": {
    "ExecuteTime": {
     "end_time": "2025-05-07T10:51:58.665983Z",
     "start_time": "2025-05-07T10:51:58.661126Z"
    }
   },
   "cell_type": "code",
   "source": [
    "def crossValidationFit():\n",
    "    # Create scorers for multiple metrics\n",
    "    rmse_scorer = make_scorer(lambda y, y_pred: np.sqrt(mean_squared_error(y, y_pred)), greater_is_better=False)\n",
    "    r2_scorer = make_scorer(r2_score)\n",
    "\n",
    "    # Set up k-fold cross validation\n",
    "    kf = KFold(n_splits=5, shuffle=True, random_state=42)\n",
    "\n",
    "    # Perform cross-validation for different metrics\n",
    "    rmse_scores = cross_val_score(models['CatBoost'], X_train_transformed, np.expm1(Y_train),\n",
    "                                  scoring=rmse_scorer, cv=kf)\n",
    "    r2_scores = cross_val_score(models['CatBoost'], X_train_transformed, np.expm1(Y_train),\n",
    "                                scoring=r2_scorer, cv=kf)\n",
    "    mae_scores = cross_val_score(models['CatBoost'], X_train_transformed, np.expm1(Y_train),\n",
    "                                 scoring='neg_mean_absolute_error', cv=kf)\n",
    "\n",
    "\n",
    "    print(\"Cross-validation results:\")\n",
    "    print(f\"RMSE scores: {-rmse_scores}\")  # Negative because scorer is negative for minimization\n",
    "    print(f\"Average RMSE: {-rmse_scores.mean():.4f} (+/- {rmse_scores.std() * 2:.4f})\")\n",
    "    print(f\"\\nR² scores: {r2_scores}\")\n",
    "    print(f\"Average MAE: {r2_scores.mean():.4f} (+/- {r2_scores.std() * 2:.4f})\")\n",
    "    print(f\"\\nMAE scores: {mae_scores}\")\n",
    "    print(f\"Average MAE: {mae_scores.mean():.4f} (+/- {mae_scores.std() * 2:.4f})\")\n"
   ],
   "id": "96551e2cf86b3114",
   "outputs": [],
   "execution_count": 905
  },
  {
   "metadata": {
    "ExecuteTime": {
     "end_time": "2025-05-07T10:52:49.204668Z",
     "start_time": "2025-05-07T10:51:58.763386Z"
    }
   },
   "cell_type": "code",
   "source": "crossValidationFit()",
   "id": "9b75620c718681f0",
   "outputs": [
    {
     "name": "stdout",
     "output_type": "stream",
     "text": [
      "Cross-validation results:\n",
      "RMSE scores: [188951.33992763 179648.36597989 183116.31070662 187861.48123797\n",
      " 193139.13369501]\n",
      "Average RMSE: 186543.3263 (+/- 9394.7071)\n",
      "\n",
      "R² scores: [0.81272552 0.83397967 0.82837361 0.81668801 0.8136056 ]\n",
      "Average MAE: 0.8211 (+/- 0.0171)\n",
      "\n",
      "MAE scores: [-134398.2893939  -130913.40287461 -130645.91874767 -134520.37933618\n",
      " -138336.16240497]\n",
      "Average MAE: -133762.8306 (+/- 5637.5477)\n"
     ]
    }
   ],
   "execution_count": 906
  },
  {
   "metadata": {
    "ExecuteTime": {
     "end_time": "2025-05-07T10:52:49.213812Z",
     "start_time": "2025-05-07T10:52:49.209379Z"
    }
   },
   "cell_type": "code",
   "source": [
    "from scipy.stats import uniform, randint\n",
    "\n",
    "def randomSearchFit():\n",
    "    rmse_scorer = make_scorer(mean_squared_error, greater_is_better=False)\n",
    "\n",
    "    param_dist = {\n",
    "        'depth': [4, 6, 8, 10],\n",
    "        'learning_rate': [0.01, 0.03, 0.05, 0.1],\n",
    "        'iterations': [200, 500, 1000],\n",
    "        'l2_leaf_reg': [1, 3, 5, 7, 9]\n",
    "    }\n",
    "\n",
    "    param_random_prof = {\n",
    "        'iterations': randint(500, 1500),                    # с расчетом на раннюю остановку\n",
    "        'learning_rate': uniform(0.01, 0.3),                 # от 0.01 до 0.31\n",
    "        'depth': randint(4, 11),                             # от 4 до 10\n",
    "        'l2_leaf_reg': uniform(1, 9),                        # от 1 до 10\n",
    "        'bagging_temperature': uniform(0, 1.5),              # от 0 до 1.5\n",
    "        'random_strength': uniform(0, 10),                   # от 0 до 10\n",
    "        'rsm': uniform(0.5, 0.5),                            # от 0.5 до 1.0\n",
    "        'subsample': uniform(0.6, 0.4),                      # от 0.6 до 1.0\n",
    "        'scale_pos_weight': uniform(0.5, 4.5),               # от 0.5 до 5.0 (только для бинарной классификации)\n",
    "    }\n",
    "\n",
    "\n",
    "    cat = CatBoostRegressor(verbose=0, random_state=42)\n",
    "\n",
    "    search = RandomizedSearchCV(\n",
    "        cat,\n",
    "        param_distributions=param_dist,\n",
    "        n_iter=20,\n",
    "        scoring=rmse_scorer,\n",
    "        cv=5,\n",
    "        verbose=1,\n",
    "        random_state=42,\n",
    "        n_jobs=-1\n",
    "    )\n",
    "\n",
    "    search.fit(X_train_transformed, Y_train)\n",
    "\n",
    "    print(\"Лучшие параметры:\", search.best_params_)\n",
    "    print(\"Лучшее значение RMSE (на CV):\", -search.best_score_)\n",
    "\n",
    "\n",
    "    best_model = search.best_estimator_\n",
    "\n",
    "    y_pred_log = best_model.predict(X_test_transformed)\n",
    "\n",
    "    print_error(\"CatBoost (поиск по сетке)\", y_pred_log)\n",
    "    return best_model\n"
   ],
   "id": "d36ce57fafec7d3c",
   "outputs": [],
   "execution_count": 907
  },
  {
   "metadata": {
    "ExecuteTime": {
     "end_time": "2025-05-07T10:57:13.569212Z",
     "start_time": "2025-05-07T10:52:49.387384Z"
    }
   },
   "cell_type": "code",
   "source": "random_search_best = randomSearchFit()",
   "id": "3967cfc207d831f",
   "outputs": [
    {
     "name": "stdout",
     "output_type": "stream",
     "text": [
      "Fitting 5 folds for each of 20 candidates, totalling 100 fits\n",
      "Лучшие параметры: {'learning_rate': 0.1, 'l2_leaf_reg': 1, 'iterations': 500, 'depth': 8}\n",
      "Лучшее значение RMSE (на CV): 0.02951209490368311\n",
      "---------------------------------------------------------\n",
      "\n",
      "Model: CatBoost (поиск по сетке)\n",
      "Mean Absolute Error (MAE): 126342.18860026133\n",
      "Mean Squared Error (MSE): 32135830456.334713\n",
      "Root Mean Squared Error (RMSE): 179264.69383661333\n",
      "R² Score: 82.84%\n",
      "Predicted/Price_MEAN Error: 12.03 %\n",
      "Predicted/Price_MEADIAN: 14.52 %\n"
     ]
    }
   ],
   "execution_count": 908
  },
  {
   "metadata": {
    "ExecuteTime": {
     "end_time": "2025-05-07T10:57:13.698076Z",
     "start_time": "2025-05-07T10:57:13.693708Z"
    }
   },
   "cell_type": "code",
   "source": [
    "\n",
    "def gridSearchFit():\n",
    "    rmse_scorer = make_scorer(mean_squared_error, greater_is_better=False)\n",
    "    cv = KFold(n_splits=5, shuffle=True, random_state=42)\n",
    "\n",
    "    cat_grid = CatBoostRegressor(verbose=0, random_state=42)\n",
    "\n",
    "    param_grid_prof = {\n",
    "    'iterations': [500, 1000, 1500],\n",
    "    'learning_rate': [0.01, 0.05, 0.1, 0.2],\n",
    "    'depth': [4, 6, 8, 10],\n",
    "    'l2_leaf_reg': [1, 3, 5, 7, 10],\n",
    "    'bagging_temperature': [0, 0.5, 1],\n",
    "    'random_strength': [0, 1, 5, 10],\n",
    "    'rsm': [0.5, 0.8, 1.0],\n",
    "    'subsample': [0.6, 0.8, 1.0],\n",
    "    'scale_pos_weight': [1, 2, 3, 5]  # применимо только при дисбалансе классов в бинарной классификации\n",
    "    }\n",
    "\n",
    "\n",
    "    param_grid = {\n",
    "        'depth': [4, 6, 8],\n",
    "        'learning_rate': [0.01, 0.05, 0.1],\n",
    "        'iterations': [100, 300, 500]\n",
    "    }\n",
    "\n",
    "    grid_search = GridSearchCV(\n",
    "        estimator=cat_grid,\n",
    "        param_grid=param_grid,\n",
    "        scoring=rmse_scorer,\n",
    "        cv=cv,\n",
    "        n_jobs=-1\n",
    "    )\n",
    "\n",
    "    grid_search.fit(X_train_transformed, Y_train)\n",
    "    print(\"Лучшая комбинация гиперпараметров:\")\n",
    "    print(grid_search.best_params_)\n",
    "\n",
    "    print(\"\\nЛучший (наименьший) RMSE (по CV):\")\n",
    "    print(f\"{-grid_search.best_score_:.4f}\")\n",
    "    best_model = grid_search.best_estimator_\n",
    "\n",
    "    grid_predict = best_model.predict(X_test_transformed)\n",
    "\n",
    "    print_error(\"GridSearch CatBoost (поиск по сетке)\", grid_predict)\n",
    "    return best_model"
   ],
   "id": "9a0d47025e0fa3a6",
   "outputs": [],
   "execution_count": 909
  },
  {
   "metadata": {
    "ExecuteTime": {
     "end_time": "2025-05-07T10:58:12.566030Z",
     "start_time": "2025-05-07T10:57:13.812465Z"
    }
   },
   "cell_type": "code",
   "source": "grid_search_best = gridSearchFit()",
   "id": "ab4b2b2ec582e6e0",
   "outputs": [
    {
     "name": "stdout",
     "output_type": "stream",
     "text": [
      "Лучшая комбинация гиперпараметров:\n",
      "{'depth': 8, 'iterations': 500, 'learning_rate': 0.1}\n",
      "\n",
      "Лучший (наименьший) RMSE (по CV):\n",
      "0.0296\n",
      "---------------------------------------------------------\n",
      "\n",
      "Model: GridSearch CatBoost (поиск по сетке)\n",
      "Mean Absolute Error (MAE): 125771.92541942629\n",
      "Mean Squared Error (MSE): 31580266165.208714\n",
      "Root Mean Squared Error (RMSE): 177708.37393102417\n",
      "R² Score: 83.13%\n",
      "Predicted/Price_MEAN Error: 11.98 %\n",
      "Predicted/Price_MEADIAN: 14.46 %\n"
     ]
    }
   ],
   "execution_count": 910
  },
  {
   "metadata": {
    "ExecuteTime": {
     "end_time": "2025-05-07T11:00:58.080484Z",
     "start_time": "2025-05-07T11:00:58.060400Z"
    }
   },
   "cell_type": "code",
   "source": [
    "# good_model = models['CatBoost']\n",
    "# good_model = random_search_best\n",
    "good_model = grid_search_best\n",
    "\n",
    "random_house = test_set_clean.sample(n=5)\n",
    "\n",
    "display(random_house)\n",
    "\n",
    "random_house_X = random_house.drop(columns=[\"Price\"])\n",
    "random_house_Y = random_house[\"Price\"]\n",
    "\n",
    "random_house_transformed = pipeline.transform(random_house_X)\n",
    "random_prediction = good_model.predict(random_house_transformed)\n",
    "\n",
    "for i, price in enumerate(random_house_Y):\n",
    "    print(f'True value : {np.expm1(price)}')\n",
    "    print(f'Predicted value : {np.expm1(random_prediction[i])}')\n",
    "    print(f'Error : {abs(np.expm1(price) - np.expm1(random_prediction[i]))}')\n",
    "    print('---------------------------------------------')\n"
   ],
   "id": "9f89afa01836ea4f",
   "outputs": [
    {
     "data": {
      "text/plain": [
       "          Suburb  Rooms Type      Price Method    SellerG        Date  \\\n",
       "10584   Watsonia      3    h  13.474429      S      Barry  14/05/2016   \n",
       "9774    Sunshine      3    h  13.721201      S    Trimson   7/11/2016   \n",
       "15611     Epping      4    h  13.429850      S  Harcourts  17/06/2017   \n",
       "9625    St Kilda      2    u  13.712371      S   Marshall  25/02/2017   \n",
       "24173  Ashburton      4    h  14.511155      S   Marshall  14/10/2017   \n",
       "\n",
       "       Distance  Bedroom2  Bathroom  Car  Landsize                CouncilArea  \\\n",
       "10584      14.9       3.0       1.0  2.0     658.0       Banyule City Council   \n",
       "9774       12.6       3.0       1.0  1.0     725.0      Brimbank City Council   \n",
       "15611      19.6       4.0       2.0  2.0     656.0    Whittlesea City Council   \n",
       "9625        6.1       2.0       1.0  0.0       0.0  Port Phillip City Council   \n",
       "24173      10.2       4.0       2.0  2.0     572.0    Boroondara City Council   \n",
       "\n",
       "                  Regionname  Propertycount  \n",
       "10584  Northern Metropolitan         2329.0  \n",
       "9774    Western Metropolitan         3755.0  \n",
       "15611  Northern Metropolitan        10926.0  \n",
       "9625   Southern Metropolitan        13240.0  \n",
       "24173  Southern Metropolitan         3052.0  "
      ],
      "text/html": [
       "<div>\n",
       "<style scoped>\n",
       "    .dataframe tbody tr th:only-of-type {\n",
       "        vertical-align: middle;\n",
       "    }\n",
       "\n",
       "    .dataframe tbody tr th {\n",
       "        vertical-align: top;\n",
       "    }\n",
       "\n",
       "    .dataframe thead th {\n",
       "        text-align: right;\n",
       "    }\n",
       "</style>\n",
       "<table border=\"1\" class=\"dataframe\">\n",
       "  <thead>\n",
       "    <tr style=\"text-align: right;\">\n",
       "      <th></th>\n",
       "      <th>Suburb</th>\n",
       "      <th>Rooms</th>\n",
       "      <th>Type</th>\n",
       "      <th>Price</th>\n",
       "      <th>Method</th>\n",
       "      <th>SellerG</th>\n",
       "      <th>Date</th>\n",
       "      <th>Distance</th>\n",
       "      <th>Bedroom2</th>\n",
       "      <th>Bathroom</th>\n",
       "      <th>Car</th>\n",
       "      <th>Landsize</th>\n",
       "      <th>CouncilArea</th>\n",
       "      <th>Regionname</th>\n",
       "      <th>Propertycount</th>\n",
       "    </tr>\n",
       "  </thead>\n",
       "  <tbody>\n",
       "    <tr>\n",
       "      <th>10584</th>\n",
       "      <td>Watsonia</td>\n",
       "      <td>3</td>\n",
       "      <td>h</td>\n",
       "      <td>13.474429</td>\n",
       "      <td>S</td>\n",
       "      <td>Barry</td>\n",
       "      <td>14/05/2016</td>\n",
       "      <td>14.9</td>\n",
       "      <td>3.0</td>\n",
       "      <td>1.0</td>\n",
       "      <td>2.0</td>\n",
       "      <td>658.0</td>\n",
       "      <td>Banyule City Council</td>\n",
       "      <td>Northern Metropolitan</td>\n",
       "      <td>2329.0</td>\n",
       "    </tr>\n",
       "    <tr>\n",
       "      <th>9774</th>\n",
       "      <td>Sunshine</td>\n",
       "      <td>3</td>\n",
       "      <td>h</td>\n",
       "      <td>13.721201</td>\n",
       "      <td>S</td>\n",
       "      <td>Trimson</td>\n",
       "      <td>7/11/2016</td>\n",
       "      <td>12.6</td>\n",
       "      <td>3.0</td>\n",
       "      <td>1.0</td>\n",
       "      <td>1.0</td>\n",
       "      <td>725.0</td>\n",
       "      <td>Brimbank City Council</td>\n",
       "      <td>Western Metropolitan</td>\n",
       "      <td>3755.0</td>\n",
       "    </tr>\n",
       "    <tr>\n",
       "      <th>15611</th>\n",
       "      <td>Epping</td>\n",
       "      <td>4</td>\n",
       "      <td>h</td>\n",
       "      <td>13.429850</td>\n",
       "      <td>S</td>\n",
       "      <td>Harcourts</td>\n",
       "      <td>17/06/2017</td>\n",
       "      <td>19.6</td>\n",
       "      <td>4.0</td>\n",
       "      <td>2.0</td>\n",
       "      <td>2.0</td>\n",
       "      <td>656.0</td>\n",
       "      <td>Whittlesea City Council</td>\n",
       "      <td>Northern Metropolitan</td>\n",
       "      <td>10926.0</td>\n",
       "    </tr>\n",
       "    <tr>\n",
       "      <th>9625</th>\n",
       "      <td>St Kilda</td>\n",
       "      <td>2</td>\n",
       "      <td>u</td>\n",
       "      <td>13.712371</td>\n",
       "      <td>S</td>\n",
       "      <td>Marshall</td>\n",
       "      <td>25/02/2017</td>\n",
       "      <td>6.1</td>\n",
       "      <td>2.0</td>\n",
       "      <td>1.0</td>\n",
       "      <td>0.0</td>\n",
       "      <td>0.0</td>\n",
       "      <td>Port Phillip City Council</td>\n",
       "      <td>Southern Metropolitan</td>\n",
       "      <td>13240.0</td>\n",
       "    </tr>\n",
       "    <tr>\n",
       "      <th>24173</th>\n",
       "      <td>Ashburton</td>\n",
       "      <td>4</td>\n",
       "      <td>h</td>\n",
       "      <td>14.511155</td>\n",
       "      <td>S</td>\n",
       "      <td>Marshall</td>\n",
       "      <td>14/10/2017</td>\n",
       "      <td>10.2</td>\n",
       "      <td>4.0</td>\n",
       "      <td>2.0</td>\n",
       "      <td>2.0</td>\n",
       "      <td>572.0</td>\n",
       "      <td>Boroondara City Council</td>\n",
       "      <td>Southern Metropolitan</td>\n",
       "      <td>3052.0</td>\n",
       "    </tr>\n",
       "  </tbody>\n",
       "</table>\n",
       "</div>"
      ]
     },
     "metadata": {},
     "output_type": "display_data"
    },
    {
     "name": "stdout",
     "output_type": "stream",
     "text": [
      "True value : 711000.0000000001\n",
      "Predicted value : 724120.8201463763\n",
      "Error : 13120.82014637615\n",
      "---------------------------------------------\n",
      "True value : 909999.9999999997\n",
      "Predicted value : 784662.348794359\n",
      "Error : 125337.65120564064\n",
      "---------------------------------------------\n",
      "True value : 680000.0000000003\n",
      "Predicted value : 708549.9342901019\n",
      "Error : 28549.93429010152\n",
      "---------------------------------------------\n",
      "True value : 902000.0000000002\n",
      "Predicted value : 596151.1487199113\n",
      "Error : 305848.8512800889\n",
      "---------------------------------------------\n",
      "True value : 2005000.0000000016\n",
      "Predicted value : 1876649.7577821356\n",
      "Error : 128350.242217866\n",
      "---------------------------------------------\n"
     ]
    }
   ],
   "execution_count": 926
  },
  {
   "metadata": {
    "ExecuteTime": {
     "end_time": "2025-05-07T10:59:10.593802Z",
     "start_time": "2025-05-07T10:59:10.590789Z"
    }
   },
   "cell_type": "code",
   "source": "print(TRAINING_L_U)",
   "id": "6d4907051a280f4b",
   "outputs": [
    {
     "name": "stdout",
     "output_type": "stream",
     "text": [
      "[['Distance', np.float64(-4.999999999999998), np.float64(25.4)], ['Bedroom2', np.float64(-1.0), np.float64(7.0)], ['Bathroom', np.float64(-0.5), np.float64(3.5)], ['Car', np.float64(-0.5), np.float64(3.5)], ['Landsize', np.float64(-448.5), np.float64(1331.5)], ['Propertycount', np.float64(-4883.0), np.float64(19589.0)]]\n"
     ]
    }
   ],
   "execution_count": 916
  },
  {
   "metadata": {
    "ExecuteTime": {
     "end_time": "2025-05-07T10:59:12.110134Z",
     "start_time": "2025-05-07T10:59:12.102371Z"
    }
   },
   "cell_type": "code",
   "source": [
    "def filter_by_training_bounds(df, training_bounds):\n",
    "    df_filtered = df.copy()\n",
    "    mask = pd.Series(True, index=df.index)\n",
    "    # Используем входной параметр training_bounds вместо глобальной переменной\n",
    "    bounds = [x for x in training_bounds if x[0] != 'Price']\n",
    "    for col, lower, upper in bounds:\n",
    "        mask &= (df_filtered[col] >= lower) & (df_filtered[col] <= upper)\n",
    "    return df_filtered[mask]\n",
    "\n",
    "# Использование:\n",
    "filtered_final_set = filter_by_training_bounds(final_test, TRAINING_L_U)\n",
    "print(f\"Число подходящих строк: {len(filtered_final_set)} из {len(final_test)}\")"
   ],
   "id": "ea6f5bd970f40c20",
   "outputs": [
    {
     "name": "stdout",
     "output_type": "stream",
     "text": [
      "Число подходящих строк: 4255 из 7610\n"
     ]
    }
   ],
   "execution_count": 917
  },
  {
   "metadata": {
    "ExecuteTime": {
     "end_time": "2025-05-07T10:59:14.042972Z",
     "start_time": "2025-05-07T10:59:13.883093Z"
    }
   },
   "cell_type": "code",
   "source": [
    "# Подготовка данных для предсказания\n",
    "final_set = final_test.copy()\n",
    "filtered_final_X = filtered_final_set.drop(columns=[\"Price\"])\n",
    "filtered_final_transformed = pipeline.transform(filtered_final_X)\n",
    "\n",
    "# Получение предсказаний\n",
    "# predictions = models['CatBoost'].predict(filtered_final_transformed)\n",
    "predictions = good_model.predict(filtered_final_transformed)\n",
    "\n",
    "# Преобразование предсказанных логарифмированных цен обратно\n",
    "predicted_prices = np.expm1(predictions)\n",
    "\n",
    "# Запись предсказанных цен в DataFrame\n",
    "final_set.loc[filtered_final_set.index, 'Price'] = predicted_prices\n",
    "\n",
    "# Сохранение в CSV\n",
    "final_set.to_csv('predicted_house_prices.csv', index=False)\n"
   ],
   "id": "3e7890e49541af68",
   "outputs": [],
   "execution_count": 918
  }
 ],
 "metadata": {
  "kernelspec": {
   "display_name": "Python 3",
   "language": "python",
   "name": "python3"
  },
  "language_info": {
   "codemirror_mode": {
    "name": "ipython",
    "version": 2
   },
   "file_extension": ".py",
   "mimetype": "text/x-python",
   "name": "python",
   "nbconvert_exporter": "python",
   "pygments_lexer": "ipython2",
   "version": "2.7.6"
  }
 },
 "nbformat": 4,
 "nbformat_minor": 5
}
